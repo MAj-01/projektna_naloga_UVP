{
 "cells": [
  {
   "cell_type": "markdown",
   "id": "8f2c7134",
   "metadata": {},
   "source": [
    "# ANALIZA PODATKOV\n",
    "Na tem mestu bomo naredili analizo podatkov, ki so zbrani v csv datotekah v mapi podatki. Analizirali bomo po treh dejavnikih:\n",
    "* analiza najstarejših prebivalcev in pričakovani življenjski dobi po državah,\n",
    "* analiza najstarejših prebivalcev in gospodarskega razvoja držav,\n",
    "* analiza najstarejših prebivalcev in naravnih zalog.\n"
   ]
  },
  {
   "cell_type": "markdown",
   "id": "eaa9728e",
   "metadata": {},
   "source": [
    "Naložimo pandas in omejimo velikot tabel na največ 15 vrstic."
   ]
  },
  {
   "cell_type": "code",
   "execution_count": 326,
   "id": "589db007",
   "metadata": {},
   "outputs": [],
   "source": [
    "import pandas as pd\n",
    "import numpy as np\n",
    "import matplotlib.pyplot as plt\n",
    "pd.set_option(\"display.max_rows\", 15)\n",
    "%matplotlib inline\n"
   ]
  },
  {
   "cell_type": "markdown",
   "id": "05cd164f",
   "metadata": {},
   "source": [
    "Shranimo vse csv datoteke v nove spremenljivke."
   ]
  },
  {
   "cell_type": "code",
   "execution_count": 327,
   "id": "21c586f3",
   "metadata": {},
   "outputs": [],
   "source": [
    "najstarejsi_prebivalci = pd.read_csv(\"podatki/najstarejsi_prebivalci_po_drzavah.csv\", index_col=\"Država\")\n",
    "pricakovana_zivljenjska_doba = pd.read_csv(\"podatki/pricakovana_zivljenjska_doba_po_drzavah.csv\", index_col=\"Država\")\n",
    "GDP_po_drzavah = pd.read_csv(\"podatki/GDP_po_drzavah.csv\")\n",
    "podhranjenost_po_drzavah = pd.read_csv(\"podatki/podhranjenost_po_drzavah.csv\", index_col=\"Država\")\n",
    "poraba_energije_po_drzavah = pd.read_csv(\"podatki/poraba_energije_po_drzavah.csv\", index_col=\"Država\")\n",
    "obnovljiva_energija_po_drzavah = pd.read_csv(\"podatki/obnovljiva_energija_po_drzavah.csv\", index_col=\"Država\")\n",
    "CO2_emisije_po_drzavah = pd.read_csv(\"podatki/CO2_emisije_po_drzavah.csv\", index_col=\"Država\")\n",
    "kolicina_vode_po_drzavah = pd.read_csv(\"podatki/kolicina_vode_po_drzavah.csv\", index_col=\"Država\")\n"
   ]
  },
  {
   "cell_type": "markdown",
   "id": "81549177",
   "metadata": {},
   "source": [
    "## Analiza po najstarejših prebivalcih in pričakovani življenjski dobi\n",
    "V tem sklopu analize podatkov bomo primerjali starost najstarejših oseb po državah in pričakovani življenjski dobi po državah. Sprva bomo uredili tabelo najstarejših prebivalcev, nato ju bomo združili. Vsaka država bo imela moškega in žensko predstavnico, ki bosta izbrana na podlagi najdaljšega življenja (saj imajo nekatere države več kot dva predstavnika). Če država nima enega od predstavnikov, bomo zapisali le enega predstavnika. Hkrati se tudi lahko zgodi, da nekaterih držav ni navedenih v obeh tabelah podatkov. Te države izpustimo.  "
   ]
  },
  {
   "cell_type": "code",
   "execution_count": 328,
   "id": "1c2418e7",
   "metadata": {},
   "outputs": [
    {
     "data": {
      "application/vnd.microsoft.datawrangler.viewer.v0+json": {
       "columns": [
        {
         "name": "index",
         "rawType": "int64",
         "type": "integer"
        },
        {
         "name": "Država",
         "rawType": "object",
         "type": "string"
        },
        {
         "name": "Spol",
         "rawType": "object",
         "type": "string"
        },
        {
         "name": "Datum rojstva",
         "rawType": "object",
         "type": "string"
        },
        {
         "name": "Datum smrti",
         "rawType": "object",
         "type": "string"
        },
        {
         "name": "Starost (leta)",
         "rawType": "int64",
         "type": "integer"
        },
        {
         "name": "Starost (dnevi)",
         "rawType": "int64",
         "type": "integer"
        },
        {
         "name": "Starost",
         "rawType": "float64",
         "type": "float"
        }
       ],
       "ref": "8b5e7faf-f753-4426-a470-40756df8e00e",
       "rows": [
        [
         "0",
         "Albania",
         "F",
         "10 May 1910",
         "5 July 2021",
         "111",
         "56",
         "111.15"
        ],
        [
         "1",
         "Albania",
         "M",
         "13 February 1911",
         "31 July 2020",
         "109",
         "169",
         "109.46"
        ],
        [
         "2",
         "Algeria",
         "F",
         "5 October 1890",
         "26 March 20059",
         "114",
         "172",
         "114.47"
        ],
        [
         "3",
         "Algeria",
         "M",
         "29 July 1884",
         "29 December 1995",
         "111",
         "153",
         "111.42"
        ],
        [
         "4",
         "Angola",
         "F",
         "17 June 1911",
         "20 August 2023",
         "112",
         "64",
         "112.18"
        ],
        [
         "5",
         "Antigua and Barbuda",
         "F",
         "23 January 1902",
         "8 September 2012",
         "110",
         "229",
         "110.63"
        ],
        [
         "6",
         "Argentina",
         "F",
         "8 April 1907",
         "28 June 202215",
         "115",
         "81",
         "115.22"
        ],
        [
         "7",
         "Argentina",
         "M",
         "25 June 1910",
         "3 February 2021",
         "110",
         "223",
         "110.61"
        ],
        [
         "8",
         "Armenia",
         "F",
         "15 August 1906",
         "12 February 2021",
         "114",
         "181",
         "114.5"
        ],
        [
         "9",
         "Australia",
         "F",
         "25 December 1887",
         "22 May 2002",
         "114",
         "148",
         "114.41"
        ],
        [
         "10",
         "Australia",
         "M",
         "5 October 1913",
         "Living",
         "111",
         "326",
         "111.89"
        ],
        [
         "11",
         "Austria",
         "F",
         "13 October 1908",
         "11 November 2022",
         "114",
         "29",
         "114.08"
        ],
        [
         "12",
         "Austria",
         "M",
         "4 June 1891",
         "9 April 2002",
         "110",
         "309",
         "110.85"
        ],
        [
         "13",
         "Bahamas",
         "F",
         "19 August 1914",
         "30 July 2025",
         "110",
         "345",
         "110.95"
        ],
        [
         "14",
         "Barbados",
         "F",
         "28 February 1909",
         "3 March 2020",
         "111",
         "4",
         "111.01"
        ],
        [
         "15",
         "Barbados",
         "M",
         "22 February 1900",
         "23 May 2013",
         "113",
         "90",
         "113.25"
        ],
        [
         "16",
         "Belarus",
         "F",
         "30 November 1912",
         "Living",
         "112",
         "270",
         "112.74"
        ],
        [
         "17",
         "Belgium",
         "F",
         "3 June 1890",
         "6 December 2002",
         "112",
         "186",
         "112.51"
        ],
        [
         "18",
         "Belgium",
         "M",
         "11 May 1878",
         "7 January 1990",
         "111",
         "241",
         "111.66"
        ],
        [
         "19",
         "Bolivia",
         "F",
         "26 April 1910",
         "12 March 2021",
         "110",
         "320",
         "110.88"
        ],
        [
         "20",
         "Bolivia",
         "M",
         "25 June 1910",
         "3 February 2021",
         "110",
         "223",
         "110.61"
        ],
        [
         "21",
         "Bosnia and Herzegovina",
         "F",
         "4 May 1914",
         "17 August 2024",
         "110",
         "105",
         "110.29"
        ],
        [
         "22",
         "Bosnia and Herzegovina",
         "M",
         "16 September 1906",
         "1 October 2016",
         "110",
         "15",
         "110.04"
        ],
        [
         "23",
         "Brazil",
         "F",
         "21 October 1904",
         "5 October 2021",
         "116",
         "349",
         "116.96"
        ],
        [
         "24",
         "Brazil",
         "M",
         "22 February 1893",
         "25 April 2006",
         "113",
         "62",
         "113.17"
        ],
        [
         "25",
         "Bulgaria",
         "F",
         "17 September 1903",
         "26 May 2014",
         "110",
         "251",
         "110.69"
        ],
        [
         "26",
         "Cambodia",
         "M",
         "12 February 1889",
         "26 June 1999",
         "110",
         "134",
         "110.37"
        ],
        [
         "27",
         "Canada",
         "F",
         "29 August 1880",
         "16 April 1998",
         "117",
         "230",
         "117.63"
        ],
        [
         "28",
         "Canada",
         "M",
         "7 January 1885",
         "4 November 1996",
         "111",
         "302",
         "111.83"
        ],
        [
         "29",
         "Cape Verde",
         "F",
         "19 February 1888",
         "21 August 2002",
         "114",
         "183",
         "114.5"
        ],
        [
         "30",
         "Chile",
         "F",
         "27 June 1898",
         "4 December 2012",
         "114",
         "160",
         "114.44"
        ],
        [
         "31",
         "Chile",
         "M",
         "25 September 1909",
         "21 March 2021",
         "111",
         "177",
         "111.48"
        ],
        [
         "32",
         "China",
         "F",
         "17 March 1900",
         "13 January 2014",
         "113",
         "302",
         "113.83"
        ],
        [
         "33",
         "China",
         "M",
         "1 November 1911",
         "29 June 2024",
         "112",
         "241",
         "112.66"
        ],
        [
         "34",
         "Colombia",
         "F",
         "13 August 1907",
         "30 July 2022",
         "114",
         "351",
         "114.96"
        ],
        [
         "35",
         "Colombia",
         "M",
         "4 April 1910",
         "11 January 2024",
         "113",
         "282",
         "113.77"
        ],
        [
         "36",
         "Costa Rica",
         "F",
         "10 March 1911",
         "20 June 2025",
         "114",
         "102",
         "114.28"
        ],
        [
         "37",
         "Costa Rica",
         "M",
         "27 September 1896",
         "20 August 2008",
         "111",
         "328",
         "111.9"
        ],
        [
         "38",
         "Croatia",
         "F",
         "18 July 1904",
         "20 October 2016",
         "112",
         "94",
         "112.26"
        ],
        [
         "39",
         "Croatia",
         "M",
         "10 December 1911",
         "5 March 2021",
         "109",
         "85",
         "109.23"
        ],
        [
         "40",
         "Cuba",
         "F",
         "15 February 1905",
         "16 September 2019",
         "114",
         "213",
         "114.58"
        ],
        [
         "41",
         "Cuba",
         "M",
         "25 June 1909",
         "7 March 2021",
         "111",
         "255",
         "111.7"
        ],
        [
         "42",
         "Cyprus",
         "F",
         "31 October 1912",
         "3 August 2023",
         "110",
         "276",
         "110.76"
        ],
        [
         "43",
         "Czech Republic",
         "F",
         "13 September 1909",
         "18 September 2022",
         "113",
         "5",
         "113.01"
        ],
        [
         "44",
         "Denmark",
         "F",
         "7 May 1908",
         "10 December 2020",
         "112",
         "217",
         "112.59"
        ],
        [
         "45",
         "Denmark",
         "M",
         "16 August 1882",
         "25 April 1998",
         "115",
         "252",
         "115.69"
        ],
        [
         "46",
         "Dominica",
         "F",
         "28 January 1899",
         "4 October 2010",
         "111",
         "249",
         "111.68"
        ],
        [
         "47",
         "Dominican Republic",
         "F",
         "17 June 1907",
         "31 January 2020",
         "112",
         "228",
         "112.62"
        ],
        [
         "48",
         "Dominican Republic",
         "M",
         "31 March 1906",
         "24 September 2020",
         "114",
         "177",
         "114.48"
        ],
        [
         "49",
         "Ecuador",
         "F",
         "14 September 1889",
         "27 August 2006",
         "116",
         "347",
         "116.95"
        ]
       ],
       "shape": {
        "columns": 7,
        "rows": 172
       }
      },
      "text/html": [
       "<div>\n",
       "<style scoped>\n",
       "    .dataframe tbody tr th:only-of-type {\n",
       "        vertical-align: middle;\n",
       "    }\n",
       "\n",
       "    .dataframe tbody tr th {\n",
       "        vertical-align: top;\n",
       "    }\n",
       "\n",
       "    .dataframe thead th {\n",
       "        text-align: right;\n",
       "    }\n",
       "</style>\n",
       "<table border=\"1\" class=\"dataframe\">\n",
       "  <thead>\n",
       "    <tr style=\"text-align: right;\">\n",
       "      <th></th>\n",
       "      <th>Država</th>\n",
       "      <th>Spol</th>\n",
       "      <th>Datum rojstva</th>\n",
       "      <th>Datum smrti</th>\n",
       "      <th>Starost (leta)</th>\n",
       "      <th>Starost (dnevi)</th>\n",
       "      <th>Starost</th>\n",
       "    </tr>\n",
       "  </thead>\n",
       "  <tbody>\n",
       "    <tr>\n",
       "      <th>0</th>\n",
       "      <td>Albania</td>\n",
       "      <td>F</td>\n",
       "      <td>10 May 1910</td>\n",
       "      <td>5 July 2021</td>\n",
       "      <td>111</td>\n",
       "      <td>56</td>\n",
       "      <td>111.15</td>\n",
       "    </tr>\n",
       "    <tr>\n",
       "      <th>1</th>\n",
       "      <td>Albania</td>\n",
       "      <td>M</td>\n",
       "      <td>13 February 1911</td>\n",
       "      <td>31 July 2020</td>\n",
       "      <td>109</td>\n",
       "      <td>169</td>\n",
       "      <td>109.46</td>\n",
       "    </tr>\n",
       "    <tr>\n",
       "      <th>2</th>\n",
       "      <td>Algeria</td>\n",
       "      <td>F</td>\n",
       "      <td>5 October 1890</td>\n",
       "      <td>26 March 20059</td>\n",
       "      <td>114</td>\n",
       "      <td>172</td>\n",
       "      <td>114.47</td>\n",
       "    </tr>\n",
       "    <tr>\n",
       "      <th>3</th>\n",
       "      <td>Algeria</td>\n",
       "      <td>M</td>\n",
       "      <td>29 July 1884</td>\n",
       "      <td>29 December 1995</td>\n",
       "      <td>111</td>\n",
       "      <td>153</td>\n",
       "      <td>111.42</td>\n",
       "    </tr>\n",
       "    <tr>\n",
       "      <th>4</th>\n",
       "      <td>Angola</td>\n",
       "      <td>F</td>\n",
       "      <td>17 June 1911</td>\n",
       "      <td>20 August 2023</td>\n",
       "      <td>112</td>\n",
       "      <td>64</td>\n",
       "      <td>112.18</td>\n",
       "    </tr>\n",
       "    <tr>\n",
       "      <th>...</th>\n",
       "      <td>...</td>\n",
       "      <td>...</td>\n",
       "      <td>...</td>\n",
       "      <td>...</td>\n",
       "      <td>...</td>\n",
       "      <td>...</td>\n",
       "      <td>...</td>\n",
       "    </tr>\n",
       "    <tr>\n",
       "      <th>167</th>\n",
       "      <td>United States</td>\n",
       "      <td>M</td>\n",
       "      <td>16 August 1882</td>\n",
       "      <td>25 April 1998</td>\n",
       "      <td>115</td>\n",
       "      <td>252</td>\n",
       "      <td>115.69</td>\n",
       "    </tr>\n",
       "    <tr>\n",
       "      <th>168</th>\n",
       "      <td>Uruguay</td>\n",
       "      <td>F</td>\n",
       "      <td>15 May 1904</td>\n",
       "      <td>29 July 2016</td>\n",
       "      <td>112</td>\n",
       "      <td>75</td>\n",
       "      <td>112.21</td>\n",
       "    </tr>\n",
       "    <tr>\n",
       "      <th>169</th>\n",
       "      <td>Uruguay</td>\n",
       "      <td>M</td>\n",
       "      <td>20 November 1911</td>\n",
       "      <td>18 March 2022</td>\n",
       "      <td>110</td>\n",
       "      <td>118</td>\n",
       "      <td>110.32</td>\n",
       "    </tr>\n",
       "    <tr>\n",
       "      <th>170</th>\n",
       "      <td>Venezuela</td>\n",
       "      <td>F</td>\n",
       "      <td>9 August 1911</td>\n",
       "      <td>12 December 2023</td>\n",
       "      <td>112</td>\n",
       "      <td>125</td>\n",
       "      <td>112.34</td>\n",
       "    </tr>\n",
       "    <tr>\n",
       "      <th>171</th>\n",
       "      <td>Venezuela</td>\n",
       "      <td>M</td>\n",
       "      <td>27 May 1909</td>\n",
       "      <td>2 April 2024140</td>\n",
       "      <td>114</td>\n",
       "      <td>311</td>\n",
       "      <td>114.85</td>\n",
       "    </tr>\n",
       "  </tbody>\n",
       "</table>\n",
       "<p>172 rows × 7 columns</p>\n",
       "</div>"
      ],
      "text/plain": [
       "            Država Spol     Datum rojstva       Datum smrti  Starost (leta)  \\\n",
       "0          Albania    F       10 May 1910       5 July 2021             111   \n",
       "1          Albania    M  13 February 1911      31 July 2020             109   \n",
       "2          Algeria    F    5 October 1890    26 March 20059             114   \n",
       "3          Algeria    M      29 July 1884  29 December 1995             111   \n",
       "4           Angola    F      17 June 1911    20 August 2023             112   \n",
       "..             ...  ...               ...               ...             ...   \n",
       "167  United States    M    16 August 1882     25 April 1998             115   \n",
       "168        Uruguay    F       15 May 1904      29 July 2016             112   \n",
       "169        Uruguay    M  20 November 1911     18 March 2022             110   \n",
       "170      Venezuela    F     9 August 1911  12 December 2023             112   \n",
       "171      Venezuela    M       27 May 1909   2 April 2024140             114   \n",
       "\n",
       "     Starost (dnevi)  Starost  \n",
       "0                 56   111.15  \n",
       "1                169   109.46  \n",
       "2                172   114.47  \n",
       "3                153   111.42  \n",
       "4                 64   112.18  \n",
       "..               ...      ...  \n",
       "167              252   115.69  \n",
       "168               75   112.21  \n",
       "169              118   110.32  \n",
       "170              125   112.34  \n",
       "171              311   114.85  \n",
       "\n",
       "[172 rows x 7 columns]"
      ]
     },
     "execution_count": 328,
     "metadata": {},
     "output_type": "execute_result"
    }
   ],
   "source": [
    "# Najprej dodamo še en stolpec, ki predstavlja starost v decimalnem zapisu.\n",
    "najstarejsi_prebivalci['Starost'] = najstarejsi_prebivalci['Starost (leta)'] + najstarejsi_prebivalci['Starost (dnevi)']/365\n",
    "najstarejsi_prebivalci['Starost'] = najstarejsi_prebivalci['Starost'].round(2)\n",
    "najstarejsi_prebivalci_vrstni_red = najstarejsi_prebivalci.sort_values(by=['Država', 'Spol', 'Starost (leta)', 'Starost (dnevi)'], ascending=[True, True, False, False])\n",
    "\n",
    "# Za vsako kombinacijo države in spola vzamemo prvo vrstico (najstarejšo).\n",
    "najstarejsi_prebivalci_urejena = najstarejsi_prebivalci_vrstni_red.groupby(['Država', 'Spol']).first().reset_index()\n",
    "\n",
    "# Zdaj imamo za vsako državo in spol eno vrstico. Za vsako državo\n",
    "# vzemimo največ dve vrstici (eno za vsak spol). Najprej dodamo pomožni stolpec za razvrstitev\n",
    "# znotraj države (F nič, M prvi).\n",
    "najstarejsi_prebivalci_urejena['Spol_razvrstitev'] = najstarejsi_prebivalci_urejena['Spol'].apply(lambda x: 0 if x == 'F' else 1)\n",
    "najstarejsi_prebivalci_sortirana = najstarejsi_prebivalci_urejena.sort_values(by=['Država', 'Spol_razvrstitev'])\n",
    "\n",
    "# Zdaj za vsako državo vzamemo največ dve vrstici.\n",
    "najstarejsi_prebivalci_sortirana.groupby('Država').head(2).reset_index(drop=True)\n",
    "\n",
    "# Odstranimo pomocni stolpec.\n",
    "najstarejsi_prebivalci_sortirana = najstarejsi_prebivalci_sortirana.drop(columns=['Spol_razvrstitev'])\n",
    "najstarejsi_prebivalci_sortirana"
   ]
  },
  {
   "cell_type": "markdown",
   "id": "bf4c723d",
   "metadata": {},
   "source": [
    "Sedaj združimo to tabelo s tabelo o pričakovani življenjski dobi. Združili jih bomo tako, da v nov stolpec dodamo indeks pričakovane življenjske dobe, ki je odvisen od države in spola osebe."
   ]
  },
  {
   "cell_type": "code",
   "execution_count": 329,
   "id": "7c5c2bc4",
   "metadata": {},
   "outputs": [
    {
     "data": {
      "application/vnd.microsoft.datawrangler.viewer.v0+json": {
       "columns": [
        {
         "name": "index",
         "rawType": "int64",
         "type": "integer"
        },
        {
         "name": "Država",
         "rawType": "object",
         "type": "string"
        },
        {
         "name": "Spol",
         "rawType": "object",
         "type": "string"
        },
        {
         "name": "Datum rojstva",
         "rawType": "object",
         "type": "string"
        },
        {
         "name": "Datum smrti",
         "rawType": "object",
         "type": "string"
        },
        {
         "name": "Starost (leta)",
         "rawType": "int64",
         "type": "integer"
        },
        {
         "name": "Starost (dnevi)",
         "rawType": "int64",
         "type": "integer"
        },
        {
         "name": "Starost",
         "rawType": "float64",
         "type": "float"
        },
        {
         "name": "Pričakovana življenjska doba po spolu",
         "rawType": "float64",
         "type": "float"
        }
       ],
       "ref": "80ba2617-57df-4966-a54b-8eaea5465055",
       "rows": [
        [
         "0",
         "Albania",
         "F",
         "10 May 1910",
         "5 July 2021",
         "111",
         "56",
         "111.15",
         "81.74"
        ],
        [
         "1",
         "Albania",
         "M",
         "13 February 1911",
         "31 July 2020",
         "109",
         "169",
         "109.46",
         "78.12"
        ],
        [
         "2",
         "Algeria",
         "F",
         "5 October 1890",
         "26 March 20059",
         "114",
         "172",
         "114.47",
         "78.13"
        ],
        [
         "3",
         "Algeria",
         "M",
         "29 July 1884",
         "29 December 1995",
         "111",
         "153",
         "111.42",
         "75.3"
        ],
        [
         "4",
         "Angola",
         "F",
         "17 June 1911",
         "20 August 2023",
         "112",
         "64",
         "112.18",
         "67.54"
        ],
        [
         "5",
         "Antigua and Barbuda",
         "F",
         "23 January 1902",
         "8 September 2012",
         "110",
         "229",
         "110.63",
         "80.6"
        ],
        [
         "6",
         "Argentina",
         "F",
         "8 April 1907",
         "28 June 202215",
         "115",
         "81",
         "115.22",
         "80.16"
        ],
        [
         "7",
         "Argentina",
         "M",
         "25 June 1910",
         "3 February 2021",
         "110",
         "223",
         "110.61",
         "75.14"
        ],
        [
         "8",
         "Armenia",
         "F",
         "15 August 1906",
         "12 February 2021",
         "114",
         "181",
         "114.5",
         "79.73"
        ],
        [
         "9",
         "Australia",
         "F",
         "25 December 1887",
         "22 May 2002",
         "114",
         "148",
         "114.41",
         "85.97"
        ],
        [
         "10",
         "Australia",
         "M",
         "5 October 1913",
         "Living",
         "111",
         "326",
         "111.89",
         "82.43"
        ],
        [
         "11",
         "Austria",
         "F",
         "13 October 1908",
         "11 November 2022",
         "114",
         "29",
         "114.08",
         "84.57"
        ],
        [
         "12",
         "Austria",
         "M",
         "4 June 1891",
         "9 April 2002",
         "110",
         "309",
         "110.85",
         "79.97"
        ],
        [
         "13",
         "Bahamas",
         "F",
         "19 August 1914",
         "30 July 2025",
         "110",
         "345",
         "110.95",
         "78.46"
        ],
        [
         "14",
         "Barbados",
         "F",
         "28 February 1909",
         "3 March 2020",
         "111",
         "4",
         "111.01",
         "78.91"
        ],
        [
         "15",
         "Barbados",
         "M",
         "22 February 1900",
         "23 May 2013",
         "113",
         "90",
         "113.25",
         "73.93"
        ],
        [
         "16",
         "Belarus",
         "F",
         "30 November 1912",
         "Living",
         "112",
         "270",
         "112.74",
         "79.37"
        ],
        [
         "17",
         "Belgium",
         "F",
         "3 June 1890",
         "6 December 2002",
         "112",
         "186",
         "112.51",
         "84.57"
        ],
        [
         "18",
         "Belgium",
         "M",
         "11 May 1878",
         "7 January 1990",
         "111",
         "241",
         "111.66",
         "80.26"
        ],
        [
         "19",
         "Bolivia",
         "F",
         "26 April 1910",
         "12 March 2021",
         "110",
         "320",
         "110.88",
         "71.51"
        ],
        [
         "20",
         "Bolivia",
         "M",
         "25 June 1910",
         "3 February 2021",
         "110",
         "223",
         "110.61",
         "66.42"
        ],
        [
         "21",
         "Bosnia and Herzegovina",
         "F",
         "4 May 1914",
         "17 August 2024",
         "110",
         "105",
         "110.29",
         "81.23"
        ],
        [
         "22",
         "Bosnia and Herzegovina",
         "M",
         "16 September 1906",
         "1 October 2016",
         "110",
         "15",
         "110.04",
         "74.88"
        ],
        [
         "23",
         "Brazil",
         "F",
         "21 October 1904",
         "5 October 2021",
         "116",
         "349",
         "116.96",
         "79.3"
        ],
        [
         "24",
         "Brazil",
         "M",
         "22 February 1893",
         "25 April 2006",
         "113",
         "62",
         "113.17",
         "73.14"
        ],
        [
         "25",
         "Bulgaria",
         "F",
         "17 September 1903",
         "26 May 2014",
         "110",
         "251",
         "110.69",
         "79.51"
        ],
        [
         "26",
         "Cambodia",
         "M",
         "12 February 1889",
         "26 June 1999",
         "110",
         "134",
         "110.37",
         "68.29"
        ],
        [
         "27",
         "Canada",
         "F",
         "29 August 1880",
         "16 April 1998",
         "117",
         "230",
         "117.63",
         "85.03"
        ],
        [
         "28",
         "Canada",
         "M",
         "7 January 1885",
         "4 November 1996",
         "111",
         "302",
         "111.83",
         "80.74"
        ],
        [
         "29",
         "Cape Verde",
         "F",
         "19 February 1888",
         "21 August 2002",
         "114",
         "183",
         "114.5",
         null
        ],
        [
         "30",
         "Chile",
         "F",
         "27 June 1898",
         "4 December 2012",
         "114",
         "160",
         "114.44",
         "83.37"
        ],
        [
         "31",
         "Chile",
         "M",
         "25 September 1909",
         "21 March 2021",
         "111",
         "177",
         "111.48",
         "79.67"
        ],
        [
         "32",
         "China",
         "F",
         "17 March 1900",
         "13 January 2014",
         "113",
         "302",
         "113.83",
         "81.25"
        ],
        [
         "33",
         "China",
         "M",
         "1 November 1911",
         "29 June 2024",
         "112",
         "241",
         "112.66",
         "75.65"
        ],
        [
         "34",
         "Colombia",
         "F",
         "13 August 1907",
         "30 July 2022",
         "114",
         "351",
         "114.96",
         "80.77"
        ],
        [
         "35",
         "Colombia",
         "M",
         "4 April 1910",
         "11 January 2024",
         "113",
         "282",
         "113.77",
         "75.36"
        ],
        [
         "36",
         "Costa Rica",
         "F",
         "10 March 1911",
         "20 June 2025",
         "114",
         "102",
         "114.28",
         "83.72"
        ],
        [
         "37",
         "Costa Rica",
         "M",
         "27 September 1896",
         "20 August 2008",
         "111",
         "328",
         "111.9",
         "78.6"
        ],
        [
         "38",
         "Croatia",
         "F",
         "18 July 1904",
         "20 October 2016",
         "112",
         "94",
         "112.26",
         "81.95"
        ],
        [
         "39",
         "Croatia",
         "M",
         "10 December 1911",
         "5 March 2021",
         "109",
         "85",
         "109.23",
         "75.8"
        ],
        [
         "40",
         "Cuba",
         "F",
         "15 February 1905",
         "16 September 2019",
         "114",
         "213",
         "114.58",
         "80.84"
        ],
        [
         "41",
         "Cuba",
         "M",
         "25 June 1909",
         "7 March 2021",
         "111",
         "255",
         "111.7",
         "76.06"
        ],
        [
         "42",
         "Cyprus",
         "F",
         "31 October 1912",
         "3 August 2023",
         "110",
         "276",
         "110.76",
         "83.93"
        ],
        [
         "43",
         "Czech Republic",
         "F",
         "13 September 1909",
         "18 September 2022",
         "113",
         "5",
         "113.01",
         null
        ],
        [
         "44",
         "Denmark",
         "F",
         "7 May 1908",
         "10 December 2020",
         "112",
         "217",
         "112.59",
         "84.1"
        ],
        [
         "45",
         "Denmark",
         "M",
         "16 August 1882",
         "25 April 1998",
         "115",
         "252",
         "115.69",
         "80.39"
        ],
        [
         "46",
         "Dominica",
         "F",
         "28 January 1899",
         "4 October 2010",
         "111",
         "249",
         "111.68",
         null
        ],
        [
         "47",
         "Dominican Republic",
         "F",
         "17 June 1907",
         "31 January 2020",
         "112",
         "228",
         "112.62",
         "77.23"
        ],
        [
         "48",
         "Dominican Republic",
         "M",
         "31 March 1906",
         "24 September 2020",
         "114",
         "177",
         "114.48",
         "70.79"
        ],
        [
         "49",
         "Ecuador",
         "F",
         "14 September 1889",
         "27 August 2006",
         "116",
         "347",
         "116.95",
         "80.46"
        ]
       ],
       "shape": {
        "columns": 8,
        "rows": 172
       }
      },
      "text/html": [
       "<div>\n",
       "<style scoped>\n",
       "    .dataframe tbody tr th:only-of-type {\n",
       "        vertical-align: middle;\n",
       "    }\n",
       "\n",
       "    .dataframe tbody tr th {\n",
       "        vertical-align: top;\n",
       "    }\n",
       "\n",
       "    .dataframe thead th {\n",
       "        text-align: right;\n",
       "    }\n",
       "</style>\n",
       "<table border=\"1\" class=\"dataframe\">\n",
       "  <thead>\n",
       "    <tr style=\"text-align: right;\">\n",
       "      <th></th>\n",
       "      <th>Država</th>\n",
       "      <th>Spol</th>\n",
       "      <th>Datum rojstva</th>\n",
       "      <th>Datum smrti</th>\n",
       "      <th>Starost (leta)</th>\n",
       "      <th>Starost (dnevi)</th>\n",
       "      <th>Starost</th>\n",
       "      <th>Pričakovana življenjska doba po spolu</th>\n",
       "    </tr>\n",
       "  </thead>\n",
       "  <tbody>\n",
       "    <tr>\n",
       "      <th>0</th>\n",
       "      <td>Albania</td>\n",
       "      <td>F</td>\n",
       "      <td>10 May 1910</td>\n",
       "      <td>5 July 2021</td>\n",
       "      <td>111</td>\n",
       "      <td>56</td>\n",
       "      <td>111.15</td>\n",
       "      <td>81.74</td>\n",
       "    </tr>\n",
       "    <tr>\n",
       "      <th>1</th>\n",
       "      <td>Albania</td>\n",
       "      <td>M</td>\n",
       "      <td>13 February 1911</td>\n",
       "      <td>31 July 2020</td>\n",
       "      <td>109</td>\n",
       "      <td>169</td>\n",
       "      <td>109.46</td>\n",
       "      <td>78.12</td>\n",
       "    </tr>\n",
       "    <tr>\n",
       "      <th>2</th>\n",
       "      <td>Algeria</td>\n",
       "      <td>F</td>\n",
       "      <td>5 October 1890</td>\n",
       "      <td>26 March 20059</td>\n",
       "      <td>114</td>\n",
       "      <td>172</td>\n",
       "      <td>114.47</td>\n",
       "      <td>78.13</td>\n",
       "    </tr>\n",
       "    <tr>\n",
       "      <th>3</th>\n",
       "      <td>Algeria</td>\n",
       "      <td>M</td>\n",
       "      <td>29 July 1884</td>\n",
       "      <td>29 December 1995</td>\n",
       "      <td>111</td>\n",
       "      <td>153</td>\n",
       "      <td>111.42</td>\n",
       "      <td>75.30</td>\n",
       "    </tr>\n",
       "    <tr>\n",
       "      <th>4</th>\n",
       "      <td>Angola</td>\n",
       "      <td>F</td>\n",
       "      <td>17 June 1911</td>\n",
       "      <td>20 August 2023</td>\n",
       "      <td>112</td>\n",
       "      <td>64</td>\n",
       "      <td>112.18</td>\n",
       "      <td>67.54</td>\n",
       "    </tr>\n",
       "    <tr>\n",
       "      <th>...</th>\n",
       "      <td>...</td>\n",
       "      <td>...</td>\n",
       "      <td>...</td>\n",
       "      <td>...</td>\n",
       "      <td>...</td>\n",
       "      <td>...</td>\n",
       "      <td>...</td>\n",
       "      <td>...</td>\n",
       "    </tr>\n",
       "    <tr>\n",
       "      <th>167</th>\n",
       "      <td>United States</td>\n",
       "      <td>M</td>\n",
       "      <td>16 August 1882</td>\n",
       "      <td>25 April 1998</td>\n",
       "      <td>115</td>\n",
       "      <td>252</td>\n",
       "      <td>115.69</td>\n",
       "      <td>77.22</td>\n",
       "    </tr>\n",
       "    <tr>\n",
       "      <th>168</th>\n",
       "      <td>Uruguay</td>\n",
       "      <td>F</td>\n",
       "      <td>15 May 1904</td>\n",
       "      <td>29 July 2016</td>\n",
       "      <td>112</td>\n",
       "      <td>75</td>\n",
       "      <td>112.21</td>\n",
       "      <td>82.17</td>\n",
       "    </tr>\n",
       "    <tr>\n",
       "      <th>169</th>\n",
       "      <td>Uruguay</td>\n",
       "      <td>M</td>\n",
       "      <td>20 November 1911</td>\n",
       "      <td>18 March 2022</td>\n",
       "      <td>110</td>\n",
       "      <td>118</td>\n",
       "      <td>110.32</td>\n",
       "      <td>74.59</td>\n",
       "    </tr>\n",
       "    <tr>\n",
       "      <th>170</th>\n",
       "      <td>Venezuela</td>\n",
       "      <td>F</td>\n",
       "      <td>9 August 1911</td>\n",
       "      <td>12 December 2023</td>\n",
       "      <td>112</td>\n",
       "      <td>125</td>\n",
       "      <td>112.34</td>\n",
       "      <td>76.82</td>\n",
       "    </tr>\n",
       "    <tr>\n",
       "      <th>171</th>\n",
       "      <td>Venezuela</td>\n",
       "      <td>M</td>\n",
       "      <td>27 May 1909</td>\n",
       "      <td>2 April 2024140</td>\n",
       "      <td>114</td>\n",
       "      <td>311</td>\n",
       "      <td>114.85</td>\n",
       "      <td>69.05</td>\n",
       "    </tr>\n",
       "  </tbody>\n",
       "</table>\n",
       "<p>172 rows × 8 columns</p>\n",
       "</div>"
      ],
      "text/plain": [
       "            Država Spol     Datum rojstva       Datum smrti  Starost (leta)  \\\n",
       "0          Albania    F       10 May 1910       5 July 2021             111   \n",
       "1          Albania    M  13 February 1911      31 July 2020             109   \n",
       "2          Algeria    F    5 October 1890    26 March 20059             114   \n",
       "3          Algeria    M      29 July 1884  29 December 1995             111   \n",
       "4           Angola    F      17 June 1911    20 August 2023             112   \n",
       "..             ...  ...               ...               ...             ...   \n",
       "167  United States    M    16 August 1882     25 April 1998             115   \n",
       "168        Uruguay    F       15 May 1904      29 July 2016             112   \n",
       "169        Uruguay    M  20 November 1911     18 March 2022             110   \n",
       "170      Venezuela    F     9 August 1911  12 December 2023             112   \n",
       "171      Venezuela    M       27 May 1909   2 April 2024140             114   \n",
       "\n",
       "     Starost (dnevi)  Starost  Pričakovana življenjska doba po spolu  \n",
       "0                 56   111.15                                  81.74  \n",
       "1                169   109.46                                  78.12  \n",
       "2                172   114.47                                  78.13  \n",
       "3                153   111.42                                  75.30  \n",
       "4                 64   112.18                                  67.54  \n",
       "..               ...      ...                                    ...  \n",
       "167              252   115.69                                  77.22  \n",
       "168               75   112.21                                  82.17  \n",
       "169              118   110.32                                  74.59  \n",
       "170              125   112.34                                  76.82  \n",
       "171              311   114.85                                  69.05  \n",
       "\n",
       "[172 rows x 8 columns]"
      ]
     },
     "execution_count": 329,
     "metadata": {},
     "output_type": "execute_result"
    }
   ],
   "source": [
    "zdruzena_tabela = pd.merge(najstarejsi_prebivalci_sortirana, pricakovana_zivljenjska_doba, on='Država', how='left')\n",
    "\n",
    "# Dodamo nov stolpec z indeksom pričakovane življenjske dobe.\n",
    "zdruzena_tabela['Pričakovana življenjska doba po spolu'] = zdruzena_tabela.apply(\n",
    "    lambda row: row['Pričakovana življenjska doba (ženske)'] if row['Spol'] == 'F' \n",
    "    else row['Pričakovana življenjska doba (moški)'] if row['Spol'] == 'M' \n",
    "    else None, \n",
    "    axis=1\n",
    ")\n",
    "\n",
    "zdruzena_tabela = zdruzena_tabela.sort_values(by=['Država', 'Spol'])\n",
    "zdruzena_tabela = zdruzena_tabela.drop(columns=['Pričakovana življenjska doba', 'Pričakovana življenjska doba (ženske)', 'Pričakovana življenjska doba (moški)'])\n",
    "zdruzena_tabela"
   ]
  },
  {
   "cell_type": "markdown",
   "id": "e51e6149",
   "metadata": {},
   "source": [
    "Z grafom predstavimo podatke spodnje tabele - starost s pričakovano življenjsko dobo po spolu."
   ]
  },
  {
   "cell_type": "code",
   "execution_count": 330,
   "id": "e4bd1a16",
   "metadata": {},
   "outputs": [
    {
     "data": {
      "application/vnd.microsoft.datawrangler.viewer.v0+json": {
       "columns": [
        {
         "name": "index",
         "rawType": "int64",
         "type": "integer"
        },
        {
         "name": "Starost",
         "rawType": "float64",
         "type": "float"
        },
        {
         "name": "Pričakovana življenjska doba po spolu",
         "rawType": "float64",
         "type": "float"
        }
       ],
       "ref": "1e362ce7-5640-4988-b273-7ea2ef51dcf2",
       "rows": [
        [
         "0",
         "111.15",
         "81.74"
        ],
        [
         "1",
         "109.46",
         "78.12"
        ],
        [
         "2",
         "114.47",
         "78.13"
        ],
        [
         "3",
         "111.42",
         "75.3"
        ],
        [
         "4",
         "112.18",
         "67.54"
        ],
        [
         "5",
         "110.63",
         "80.6"
        ],
        [
         "6",
         "115.22",
         "80.16"
        ],
        [
         "7",
         "110.61",
         "75.14"
        ],
        [
         "8",
         "114.5",
         "79.73"
        ],
        [
         "9",
         "114.41",
         "85.97"
        ],
        [
         "10",
         "111.89",
         "82.43"
        ],
        [
         "11",
         "114.08",
         "84.57"
        ],
        [
         "12",
         "110.85",
         "79.97"
        ],
        [
         "13",
         "110.95",
         "78.46"
        ],
        [
         "14",
         "111.01",
         "78.91"
        ],
        [
         "15",
         "113.25",
         "73.93"
        ],
        [
         "16",
         "112.74",
         "79.37"
        ],
        [
         "17",
         "112.51",
         "84.57"
        ],
        [
         "18",
         "111.66",
         "80.26"
        ],
        [
         "19",
         "110.88",
         "71.51"
        ],
        [
         "20",
         "110.61",
         "66.42"
        ],
        [
         "21",
         "110.29",
         "81.23"
        ],
        [
         "22",
         "110.04",
         "74.88"
        ],
        [
         "23",
         "116.96",
         "79.3"
        ],
        [
         "24",
         "113.17",
         "73.14"
        ],
        [
         "25",
         "110.69",
         "79.51"
        ],
        [
         "26",
         "110.37",
         "68.29"
        ],
        [
         "27",
         "117.63",
         "85.03"
        ],
        [
         "28",
         "111.83",
         "80.74"
        ],
        [
         "29",
         "114.5",
         null
        ],
        [
         "30",
         "114.44",
         "83.37"
        ],
        [
         "31",
         "111.48",
         "79.67"
        ],
        [
         "32",
         "113.83",
         "81.25"
        ],
        [
         "33",
         "112.66",
         "75.65"
        ],
        [
         "34",
         "114.96",
         "80.77"
        ],
        [
         "35",
         "113.77",
         "75.36"
        ],
        [
         "36",
         "114.28",
         "83.72"
        ],
        [
         "37",
         "111.9",
         "78.6"
        ],
        [
         "38",
         "112.26",
         "81.95"
        ],
        [
         "39",
         "109.23",
         "75.8"
        ],
        [
         "40",
         "114.58",
         "80.84"
        ],
        [
         "41",
         "111.7",
         "76.06"
        ],
        [
         "42",
         "110.76",
         "83.93"
        ],
        [
         "43",
         "113.01",
         null
        ],
        [
         "44",
         "112.59",
         "84.1"
        ],
        [
         "45",
         "115.69",
         "80.39"
        ],
        [
         "46",
         "111.68",
         null
        ],
        [
         "47",
         "112.62",
         "77.23"
        ],
        [
         "48",
         "114.48",
         "70.79"
        ],
        [
         "49",
         "116.95",
         "80.46"
        ]
       ],
       "shape": {
        "columns": 2,
        "rows": 172
       }
      },
      "text/html": [
       "<div>\n",
       "<style scoped>\n",
       "    .dataframe tbody tr th:only-of-type {\n",
       "        vertical-align: middle;\n",
       "    }\n",
       "\n",
       "    .dataframe tbody tr th {\n",
       "        vertical-align: top;\n",
       "    }\n",
       "\n",
       "    .dataframe thead th {\n",
       "        text-align: right;\n",
       "    }\n",
       "</style>\n",
       "<table border=\"1\" class=\"dataframe\">\n",
       "  <thead>\n",
       "    <tr style=\"text-align: right;\">\n",
       "      <th></th>\n",
       "      <th>Starost</th>\n",
       "      <th>Pričakovana življenjska doba po spolu</th>\n",
       "    </tr>\n",
       "  </thead>\n",
       "  <tbody>\n",
       "    <tr>\n",
       "      <th>0</th>\n",
       "      <td>111.15</td>\n",
       "      <td>81.74</td>\n",
       "    </tr>\n",
       "    <tr>\n",
       "      <th>1</th>\n",
       "      <td>109.46</td>\n",
       "      <td>78.12</td>\n",
       "    </tr>\n",
       "    <tr>\n",
       "      <th>2</th>\n",
       "      <td>114.47</td>\n",
       "      <td>78.13</td>\n",
       "    </tr>\n",
       "    <tr>\n",
       "      <th>3</th>\n",
       "      <td>111.42</td>\n",
       "      <td>75.30</td>\n",
       "    </tr>\n",
       "    <tr>\n",
       "      <th>4</th>\n",
       "      <td>112.18</td>\n",
       "      <td>67.54</td>\n",
       "    </tr>\n",
       "    <tr>\n",
       "      <th>...</th>\n",
       "      <td>...</td>\n",
       "      <td>...</td>\n",
       "    </tr>\n",
       "    <tr>\n",
       "      <th>167</th>\n",
       "      <td>115.69</td>\n",
       "      <td>77.22</td>\n",
       "    </tr>\n",
       "    <tr>\n",
       "      <th>168</th>\n",
       "      <td>112.21</td>\n",
       "      <td>82.17</td>\n",
       "    </tr>\n",
       "    <tr>\n",
       "      <th>169</th>\n",
       "      <td>110.32</td>\n",
       "      <td>74.59</td>\n",
       "    </tr>\n",
       "    <tr>\n",
       "      <th>170</th>\n",
       "      <td>112.34</td>\n",
       "      <td>76.82</td>\n",
       "    </tr>\n",
       "    <tr>\n",
       "      <th>171</th>\n",
       "      <td>114.85</td>\n",
       "      <td>69.05</td>\n",
       "    </tr>\n",
       "  </tbody>\n",
       "</table>\n",
       "<p>172 rows × 2 columns</p>\n",
       "</div>"
      ],
      "text/plain": [
       "     Starost  Pričakovana življenjska doba po spolu\n",
       "0     111.15                                  81.74\n",
       "1     109.46                                  78.12\n",
       "2     114.47                                  78.13\n",
       "3     111.42                                  75.30\n",
       "4     112.18                                  67.54\n",
       "..       ...                                    ...\n",
       "167   115.69                                  77.22\n",
       "168   112.21                                  82.17\n",
       "169   110.32                                  74.59\n",
       "170   112.34                                  76.82\n",
       "171   114.85                                  69.05\n",
       "\n",
       "[172 rows x 2 columns]"
      ]
     },
     "execution_count": 330,
     "metadata": {},
     "output_type": "execute_result"
    }
   ],
   "source": [
    "tabela_pricakovane_zivljenjske = zdruzena_tabela[['Starost', 'Pričakovana življenjska doba po spolu']]\n",
    "tabela_pricakovane_zivljenjske"
   ]
  },
  {
   "cell_type": "code",
   "execution_count": 331,
   "id": "70680bb6",
   "metadata": {},
   "outputs": [
    {
     "data": {
      "text/plain": [
       "<Axes: title={'center': 'Starost najstarejših prebivalcev glede na pričakovano življenjsko dobo'}, xlabel='Pričakovana življenjska doba', ylabel='Starost'>"
      ]
     },
     "execution_count": 331,
     "metadata": {},
     "output_type": "execute_result"
    },
    {
     "data": {
      "image/png": "[encoded data removed]",
      "text/plain": [
       "<Figure size 640x480 with 1 Axes>"
      ]
     },
     "metadata": {},
     "output_type": "display_data"
    }
   ],
   "source": [
    "tabela_pricakovane_zivljenjske.groupby(\"Pričakovana življenjska doba po spolu\").mean().plot(\n",
    "    ylabel = \"Starost\", xlabel = \"Pričakovana življenjska doba\",\n",
    "    title = \"Starost najstarejših prebivalcev glede na pričakovano življenjsko dobo\")"
   ]
  },
  {
   "cell_type": "markdown",
   "id": "fc9d5f55",
   "metadata": {},
   "source": [
    "Opaženo je, da je korelacija med starostjo in pričakovano življenjsko dobo, saj graf narašča. "
   ]
  },
  {
   "cell_type": "markdown",
   "id": "c8b3262b",
   "metadata": {},
   "source": [
    "## Analiza najstarejših prebivalcev in gospodarskega razvoja držav\n",
    "V tem razdelku bomo analizirali podatke o starosti najstarejših prebivalcev in energetskem razvoju držav. Sklepamo, da bi lahko starost najstarejših prebivalcev lahko bila odvisna od razvitosti države, ki jo bomo v tem primeru merili s količino porabljene energije, odstotkom pridobljene obnovljive \"zelene\" energije, količino odvedenih CO2 emisij ter nenazadnje še z BDP-jem. S temi količina bomo pokrili kriterije kot so industrijska razvitost, razvoj države glede na moderne smernice ter na splošno gospodarki dejavniki. \n"
   ]
  },
  {
   "cell_type": "markdown",
   "id": "26faa04d",
   "metadata": {},
   "source": [
    "Sprva v tabeli najstarejših prebivalcev ohranimo le najstarejše predstavnike držav, saj v tem primeru nimamo razporejenih podatkov po spolu. Nato tabeli dodamo nove stolpce zgoraj navedenih količin."
   ]
  },
  {
   "cell_type": "code",
   "execution_count": 332,
   "id": "4462fddd",
   "metadata": {},
   "outputs": [
    {
     "data": {
      "application/vnd.microsoft.datawrangler.viewer.v0+json": {
       "columns": [
        {
         "name": "Država",
         "rawType": "object",
         "type": "string"
        },
        {
         "name": "Spol",
         "rawType": "object",
         "type": "string"
        },
        {
         "name": "Datum rojstva",
         "rawType": "object",
         "type": "string"
        },
        {
         "name": "Datum smrti",
         "rawType": "object",
         "type": "string"
        },
        {
         "name": "Starost (leta)",
         "rawType": "int64",
         "type": "integer"
        },
        {
         "name": "Starost (dnevi)",
         "rawType": "int64",
         "type": "integer"
        },
        {
         "name": "Starost",
         "rawType": "float64",
         "type": "float"
        }
       ],
       "ref": "ee5d5c0f-b00c-4296-88a2-a75faa94d31c",
       "rows": [
        [
         "Albania",
         "F",
         "10 May 1910",
         "5 July 2021",
         "111",
         "56",
         "111.15"
        ],
        [
         "Algeria",
         "F",
         "5 October 1890",
         "26 March 20059",
         "114",
         "172",
         "114.47"
        ],
        [
         "Angola",
         "F",
         "17 June 1911",
         "20 August 2023",
         "112",
         "64",
         "112.18"
        ],
        [
         "Antigua and Barbuda",
         "F",
         "23 January 1902",
         "8 September 2012",
         "110",
         "229",
         "110.63"
        ],
        [
         "Argentina",
         "F",
         "8 April 1907",
         "28 June 202215",
         "115",
         "81",
         "115.22"
        ],
        [
         "Armenia",
         "F",
         "15 August 1906",
         "12 February 2021",
         "114",
         "181",
         "114.5"
        ],
        [
         "Australia",
         "F",
         "25 December 1887",
         "22 May 2002",
         "114",
         "148",
         "114.41"
        ],
        [
         "Austria",
         "F",
         "13 October 1908",
         "11 November 2022",
         "114",
         "29",
         "114.08"
        ],
        [
         "Bahamas",
         "F",
         "19 August 1914",
         "30 July 2025",
         "110",
         "345",
         "110.95"
        ],
        [
         "Barbados",
         "M",
         "22 February 1900",
         "23 May 2013",
         "113",
         "90",
         "113.25"
        ],
        [
         "Belarus",
         "F",
         "30 November 1912",
         "Living",
         "112",
         "270",
         "112.74"
        ],
        [
         "Belgium",
         "F",
         "3 June 1890",
         "6 December 2002",
         "112",
         "186",
         "112.51"
        ],
        [
         "Bolivia",
         "F",
         "26 April 1910",
         "12 March 2021",
         "110",
         "320",
         "110.88"
        ],
        [
         "Bosnia and Herzegovina",
         "F",
         "4 May 1914",
         "17 August 2024",
         "110",
         "105",
         "110.29"
        ],
        [
         "Brazil",
         "F",
         "21 October 1904",
         "5 October 2021",
         "116",
         "349",
         "116.96"
        ],
        [
         "Bulgaria",
         "F",
         "17 September 1903",
         "26 May 2014",
         "110",
         "251",
         "110.69"
        ],
        [
         "Cambodia",
         "M",
         "12 February 1889",
         "26 June 1999",
         "110",
         "134",
         "110.37"
        ],
        [
         "Canada",
         "F",
         "29 August 1880",
         "16 April 1998",
         "117",
         "230",
         "117.63"
        ],
        [
         "Cape Verde",
         "F",
         "19 February 1888",
         "21 August 2002",
         "114",
         "183",
         "114.5"
        ],
        [
         "Chile",
         "F",
         "27 June 1898",
         "4 December 2012",
         "114",
         "160",
         "114.44"
        ],
        [
         "China",
         "F",
         "17 March 1900",
         "13 January 2014",
         "113",
         "302",
         "113.83"
        ],
        [
         "Colombia",
         "F",
         "13 August 1907",
         "30 July 2022",
         "114",
         "351",
         "114.96"
        ],
        [
         "Costa Rica",
         "F",
         "10 March 1911",
         "20 June 2025",
         "114",
         "102",
         "114.28"
        ],
        [
         "Croatia",
         "F",
         "18 July 1904",
         "20 October 2016",
         "112",
         "94",
         "112.26"
        ],
        [
         "Cuba",
         "F",
         "15 February 1905",
         "16 September 2019",
         "114",
         "213",
         "114.58"
        ],
        [
         "Cyprus",
         "F",
         "31 October 1912",
         "3 August 2023",
         "110",
         "276",
         "110.76"
        ],
        [
         "Czech Republic",
         "F",
         "13 September 1909",
         "18 September 2022",
         "113",
         "5",
         "113.01"
        ],
        [
         "Denmark",
         "M",
         "16 August 1882",
         "25 April 1998",
         "115",
         "252",
         "115.69"
        ],
        [
         "Dominica",
         "F",
         "28 January 1899",
         "4 October 2010",
         "111",
         "249",
         "111.68"
        ],
        [
         "Dominican Republic",
         "M",
         "31 March 1906",
         "24 September 2020",
         "114",
         "177",
         "114.48"
        ],
        [
         "Ecuador",
         "F",
         "14 September 1889",
         "27 August 2006",
         "116",
         "347",
         "116.95"
        ],
        [
         "El Salvador",
         "M",
         "17 August 1911",
         "17 April 2023",
         "111",
         "243",
         "111.67"
        ],
        [
         "Estonia",
         "F",
         "3 February 1914",
         "1 April 2024",
         "110",
         "58",
         "110.16"
        ],
        [
         "Fiji",
         "F",
         "16 Apr 1915",
         "10 Apr 2025",
         "109",
         "359",
         "109.98"
        ],
        [
         "Finland",
         "F",
         "2 October 1887",
         "17 June 2000",
         "112",
         "259",
         "112.71"
        ],
        [
         "France",
         "F",
         "21 February 1875",
         "4 August 1997",
         "122",
         "164",
         "122.45"
        ],
        [
         "Germany",
         "F",
         "3 August 1871",
         "21 October 1986",
         "115",
         "79",
         "115.22"
        ],
        [
         "Greece",
         "F",
         "6 February 1903",
         "20 March 2016",
         "113",
         "43",
         "113.12"
        ],
        [
         "Guatemala",
         "F",
         "16 September 1906",
         "1 April 2017",
         "110",
         "197",
         "110.54"
        ],
        [
         "Guyana",
         "F",
         "16 May 1896",
         "30 June 2009",
         "113",
         "45",
         "113.12"
        ],
        [
         "Haiti",
         "F",
         "18 March 1904",
         "30 October 2016",
         "112",
         "226",
         "112.62"
        ],
        [
         "Honduras",
         "F",
         "22 October 1912",
         "5 February 2024",
         "111",
         "106",
         "111.29"
        ],
        [
         "Hungary",
         "F",
         "4 February 1908",
         "20 April 2021",
         "113",
         "75",
         "113.21"
        ],
        [
         "Iceland",
         "F",
         "20 October 1888",
         "26 August 1998",
         "109",
         "310",
         "109.85"
        ],
        [
         "India",
         "F",
         "30 June 1911",
         "Living",
         "114",
         "58",
         "114.16"
        ],
        [
         "Ireland",
         "F",
         "16 February 1902",
         "6 July 2015",
         "113",
         "140",
         "113.38"
        ],
        [
         "Israel",
         "M",
         "15 September 1903",
         "11 August 2017",
         "113",
         "330",
         "113.9"
        ],
        [
         "Italy",
         "F",
         "29 November 1899",
         "15 April 2017",
         "117",
         "137",
         "117.38"
        ],
        [
         "Jamaica",
         "F",
         "10 March 1900",
         "15 September 2017",
         "117",
         "189",
         "117.52"
        ],
        [
         "Japan",
         "F",
         "2 January 1903",
         "19 April 2022",
         "119",
         "107",
         "119.29"
        ]
       ],
       "shape": {
        "columns": 6,
        "rows": 101
       }
      },
      "text/html": [
       "<div>\n",
       "<style scoped>\n",
       "    .dataframe tbody tr th:only-of-type {\n",
       "        vertical-align: middle;\n",
       "    }\n",
       "\n",
       "    .dataframe tbody tr th {\n",
       "        vertical-align: top;\n",
       "    }\n",
       "\n",
       "    .dataframe thead th {\n",
       "        text-align: right;\n",
       "    }\n",
       "</style>\n",
       "<table border=\"1\" class=\"dataframe\">\n",
       "  <thead>\n",
       "    <tr style=\"text-align: right;\">\n",
       "      <th></th>\n",
       "      <th>Spol</th>\n",
       "      <th>Datum rojstva</th>\n",
       "      <th>Datum smrti</th>\n",
       "      <th>Starost (leta)</th>\n",
       "      <th>Starost (dnevi)</th>\n",
       "      <th>Starost</th>\n",
       "    </tr>\n",
       "    <tr>\n",
       "      <th>Država</th>\n",
       "      <th></th>\n",
       "      <th></th>\n",
       "      <th></th>\n",
       "      <th></th>\n",
       "      <th></th>\n",
       "      <th></th>\n",
       "    </tr>\n",
       "  </thead>\n",
       "  <tbody>\n",
       "    <tr>\n",
       "      <th>Albania</th>\n",
       "      <td>F</td>\n",
       "      <td>10 May 1910</td>\n",
       "      <td>5 July 2021</td>\n",
       "      <td>111</td>\n",
       "      <td>56</td>\n",
       "      <td>111.15</td>\n",
       "    </tr>\n",
       "    <tr>\n",
       "      <th>Algeria</th>\n",
       "      <td>F</td>\n",
       "      <td>5 October 1890</td>\n",
       "      <td>26 March 20059</td>\n",
       "      <td>114</td>\n",
       "      <td>172</td>\n",
       "      <td>114.47</td>\n",
       "    </tr>\n",
       "    <tr>\n",
       "      <th>Angola</th>\n",
       "      <td>F</td>\n",
       "      <td>17 June 1911</td>\n",
       "      <td>20 August 2023</td>\n",
       "      <td>112</td>\n",
       "      <td>64</td>\n",
       "      <td>112.18</td>\n",
       "    </tr>\n",
       "    <tr>\n",
       "      <th>Antigua and Barbuda</th>\n",
       "      <td>F</td>\n",
       "      <td>23 January 1902</td>\n",
       "      <td>8 September 2012</td>\n",
       "      <td>110</td>\n",
       "      <td>229</td>\n",
       "      <td>110.63</td>\n",
       "    </tr>\n",
       "    <tr>\n",
       "      <th>Argentina</th>\n",
       "      <td>F</td>\n",
       "      <td>8 April 1907</td>\n",
       "      <td>28 June 202215</td>\n",
       "      <td>115</td>\n",
       "      <td>81</td>\n",
       "      <td>115.22</td>\n",
       "    </tr>\n",
       "    <tr>\n",
       "      <th>...</th>\n",
       "      <td>...</td>\n",
       "      <td>...</td>\n",
       "      <td>...</td>\n",
       "      <td>...</td>\n",
       "      <td>...</td>\n",
       "      <td>...</td>\n",
       "    </tr>\n",
       "    <tr>\n",
       "      <th>Ukraine</th>\n",
       "      <td>F</td>\n",
       "      <td>10 June 1906</td>\n",
       "      <td>19 August 2022</td>\n",
       "      <td>116</td>\n",
       "      <td>70</td>\n",
       "      <td>116.19</td>\n",
       "    </tr>\n",
       "    <tr>\n",
       "      <th>United Kingdom</th>\n",
       "      <td>F</td>\n",
       "      <td>21 August 1909</td>\n",
       "      <td>Living</td>\n",
       "      <td>116</td>\n",
       "      <td>6</td>\n",
       "      <td>116.02</td>\n",
       "    </tr>\n",
       "    <tr>\n",
       "      <th>United States</th>\n",
       "      <td>F</td>\n",
       "      <td>24 September 1880</td>\n",
       "      <td>30 December 1999</td>\n",
       "      <td>119</td>\n",
       "      <td>97</td>\n",
       "      <td>119.27</td>\n",
       "    </tr>\n",
       "    <tr>\n",
       "      <th>Uruguay</th>\n",
       "      <td>F</td>\n",
       "      <td>15 May 1904</td>\n",
       "      <td>29 July 2016</td>\n",
       "      <td>112</td>\n",
       "      <td>75</td>\n",
       "      <td>112.21</td>\n",
       "    </tr>\n",
       "    <tr>\n",
       "      <th>Venezuela</th>\n",
       "      <td>M</td>\n",
       "      <td>27 May 1909</td>\n",
       "      <td>2 April 2024140</td>\n",
       "      <td>114</td>\n",
       "      <td>311</td>\n",
       "      <td>114.85</td>\n",
       "    </tr>\n",
       "  </tbody>\n",
       "</table>\n",
       "<p>101 rows × 6 columns</p>\n",
       "</div>"
      ],
      "text/plain": [
       "                    Spol      Datum rojstva       Datum smrti  Starost (leta)  \\\n",
       "Država                                                                          \n",
       "Albania                F        10 May 1910       5 July 2021             111   \n",
       "Algeria                F     5 October 1890    26 March 20059             114   \n",
       "Angola                 F       17 June 1911    20 August 2023             112   \n",
       "Antigua and Barbuda    F    23 January 1902  8 September 2012             110   \n",
       "Argentina              F       8 April 1907    28 June 202215             115   \n",
       "...                  ...                ...               ...             ...   \n",
       "Ukraine                F       10 June 1906    19 August 2022             116   \n",
       "United Kingdom         F     21 August 1909            Living             116   \n",
       "United States          F  24 September 1880  30 December 1999             119   \n",
       "Uruguay                F        15 May 1904      29 July 2016             112   \n",
       "Venezuela              M        27 May 1909   2 April 2024140             114   \n",
       "\n",
       "                     Starost (dnevi)  Starost  \n",
       "Država                                         \n",
       "Albania                           56   111.15  \n",
       "Algeria                          172   114.47  \n",
       "Angola                            64   112.18  \n",
       "Antigua and Barbuda              229   110.63  \n",
       "Argentina                         81   115.22  \n",
       "...                              ...      ...  \n",
       "Ukraine                           70   116.19  \n",
       "United Kingdom                     6   116.02  \n",
       "United States                     97   119.27  \n",
       "Uruguay                           75   112.21  \n",
       "Venezuela                        311   114.85  \n",
       "\n",
       "[101 rows x 6 columns]"
      ]
     },
     "execution_count": 332,
     "metadata": {},
     "output_type": "execute_result"
    }
   ],
   "source": [
    "\n",
    "# Resetirajmo indeks, da bo Država postal stolpec.\n",
    "najstarejsi_prebivalci_reset = najstarejsi_prebivalci.reset_index()\n",
    "# Uporabimo fukcijo drop_duplicates, da dobimo najstarejšega prebivalca v vsaki državi\n",
    "najstarejsi_prebivalci_ekonomija_urejena = najstarejsi_prebivalci_reset.sort_values(by=['Starost'], ascending=False)\n",
    "najstarejsi_prebivalci_ekonomija_sortirana = najstarejsi_prebivalci_ekonomija_urejena.drop_duplicates(subset='Država', keep='first')\n",
    "najstarejsi_prebivalci_ekonomija = najstarejsi_prebivalci_ekonomija_sortirana.sort_values('Država')\n",
    "najstarejsi_prebivalci_ekonomija = najstarejsi_prebivalci_ekonomija.set_index('Država')\n",
    "najstarejsi_prebivalci_ekonomija"
   ]
  },
  {
   "cell_type": "code",
   "execution_count": 333,
   "id": "9d3eaa21",
   "metadata": {},
   "outputs": [
    {
     "data": {
      "application/vnd.microsoft.datawrangler.viewer.v0+json": {
       "columns": [
        {
         "name": "index",
         "rawType": "int64",
         "type": "integer"
        },
        {
         "name": "Starost",
         "rawType": "float64",
         "type": "float"
        },
        {
         "name": "Odstotek porabe energije (svetovno)",
         "rawType": "float64",
         "type": "float"
        },
        {
         "name": "Porabljena energija na prebivalca (letno)",
         "rawType": "float64",
         "type": "float"
        },
        {
         "name": "Odstotek pridobljene obnovljive energije",
         "rawType": "float64",
         "type": "float"
        },
        {
         "name": "CO2 emisije na prebivalca (v tonah)",
         "rawType": "float64",
         "type": "float"
        },
        {
         "name": "Delež svetovnega CO2 (v odstotkih)",
         "rawType": "float64",
         "type": "float"
        },
        {
         "name": "GDP rast (v odstotkih)",
         "rawType": "float64",
         "type": "float"
        },
        {
         "name": "GDP na prebivalca (v dolarjih)",
         "rawType": "float64",
         "type": "float"
        },
        {
         "name": "Delež svetovnega GDP (v odstotkih)",
         "rawType": "float64",
         "type": "float"
        }
       ],
       "ref": "608797f9-6302-4808-bbdb-86dedff7f658",
       "rows": [
        [
         "0",
         "111.15",
         "0.019",
         "38590.0",
         "100.0",
         "1.59",
         "0.012",
         "3.94",
         "8375.0",
         "0.022"
        ],
        [
         "1",
         "114.47",
         "0.41",
         "57531.0",
         "0.9",
         "3.89",
         "0.46",
         "4.1",
         "5364.0",
         "0.23"
        ],
        [
         "2",
         "112.18",
         "0.062",
         "12000.0",
         "76.0",
         "0.57",
         "0.052",
         "1.0",
         "2308.0",
         "0.08"
        ],
        [
         "3",
         "110.63",
         "0.0018",
         "117227.0",
         "6.0",
         "2.99",
         "0.00072",
         "3.86",
         "21787.0",
         "0.0019"
        ],
        [
         "4",
         "115.22",
         "0.66",
         "87325.0",
         "34.0",
         "4.05",
         "0.48",
         "-1.61",
         "14187.0",
         "0.61"
        ],
        [
         "5",
         "114.5",
         "0.026",
         "50957.0",
         "28.0",
         "2.2",
         "0.016",
         "8.3",
         "8183.0",
         "0.023"
        ],
        [
         "6",
         "114.41",
         "1.05",
         "247769.0",
         "35.0",
         "15.01",
         "1.02",
         "3.44",
         "65330.0",
         "1.63"
        ],
        [
         "7",
         "114.08",
         "0.26",
         "170664.0",
         "85.0",
         "6.75",
         "0.16",
         "-0.95",
         "56042.0",
         "0.48"
        ],
        [
         "8",
         "110.95",
         "0.0074",
         "109745.0",
         "1.0",
         "3.64",
         "0.0038",
         "2.64",
         "35897.0",
         "0.014"
        ],
        [
         "9",
         "113.25",
         "0.0043",
         "88388.0",
         "8.0",
         "2.39",
         "0.0018",
         "4.09",
         "23804.0",
         "0.0063"
        ],
        [
         "10",
         "112.74",
         "0.17",
         "101236.0",
         "3.0",
         "6.26",
         "0.15",
         "3.89",
         "7883.0",
         "0.068"
        ],
        [
         "11",
         "112.51",
         "0.46",
         "235984.0",
         "33.0",
         "7.77",
         "0.23",
         "1.25",
         "55049.0",
         "0.61"
        ],
        [
         "12",
         "110.88",
         "0.059",
         "30266.0",
         "35.0",
         "1.82",
         "0.057",
         "3.08",
         "3686.0",
         "0.043"
        ],
        [
         "13",
         "110.29",
         "0.043",
         "73426.0",
         "40.0",
         "6.81",
         "0.057",
         "2.21",
         "8639.0",
         "0.026"
        ],
        [
         "14",
         "116.96",
         "2.16",
         "61388.0",
         "89.0",
         "2.22",
         "1.21",
         "2.91",
         "10295.0",
         "2.05"
        ],
        [
         "15",
         "110.69",
         "0.13",
         "109450.0",
         "25.0",
         "7.34",
         "0.13",
         "1.89",
         "15069.0",
         "0.096"
        ],
        [
         "16",
         "110.37",
         "0.029",
         "10495.0",
         "45.0",
         "1.02",
         "0.046",
         "4.96",
         "2430.0",
         "0.04"
        ],
        [
         "17",
         "117.63",
         "2.59",
         "409202.0",
         "67.0",
         "14.99",
         "1.51",
         "1.25",
         "54517.0",
         "2.02"
        ],
        [
         "19",
         "114.44",
         "0.26",
         "80616.0",
         "65.0",
         "4.75",
         "0.24",
         "0.22",
         "17068.0",
         "0.32"
        ],
        [
         "20",
         "113.83",
         "23.81",
         "98197.0",
         "31.0",
         "8.89",
         "32.88",
         "5.25",
         "12509.0",
         "16.76"
        ],
        [
         "21",
         "114.96",
         "0.29",
         "34505.0",
         "66.0",
         "1.71",
         "0.23",
         "0.61",
         "6947.0",
         "0.34"
        ],
        [
         "22",
         "114.28",
         "0.037",
         "43569.0",
         "100.0",
         "1.69",
         "0.022",
         "5.11",
         "16942.0",
         "0.081"
        ],
        [
         "23",
         "112.26",
         "0.06",
         "85969.0",
         "70.0",
         "4.41",
         "0.045",
         "3.3",
         "21662.0",
         "0.079"
        ],
        [
         "25",
         "110.76",
         "0.02",
         "93437.0",
         "20.0",
         "5.6",
         "0.019",
         "2.61",
         "25195.0",
         "0.032"
        ],
        [
         "27",
         "115.69",
         "0.13",
         "127893.0",
         "87.0",
         "4.94",
         "0.076",
         "2.5",
         "68440.0",
         "0.38"
        ],
        [
         "28",
         "111.68",
         "0.00068",
         "57662.0",
         "13.0",
         "1.03",
         "0.00018",
         "4.71",
         "9833.0",
         "0.00062"
        ],
        [
         "29",
         "114.48",
         "0.058",
         "31918.0",
         "17.0",
         "2.09",
         "0.061",
         "2.36",
         "10718.0",
         "0.11"
        ],
        [
         "30",
         "116.95",
         "0.12",
         "42643.0",
         "77.0",
         "2.59",
         "0.12",
         "2.36",
         "6610.0",
         "0.11"
        ],
        [
         "31",
         "111.67",
         "0.023",
         "21289.0",
         "91.0",
         "1.27",
         "0.021",
         "3.51",
         "5391.0",
         "0.032"
        ],
        [
         "32",
         "110.16",
         "0.015",
         "66634.0",
         "49.0",
         "8.03",
         "0.028",
         "-3.02",
         "30201.0",
         "0.039"
        ],
        [
         "33",
         "109.98",
         "0.0067",
         "42307.0",
         "63.0",
         "1.84",
         "0.0044",
         "7.52",
         "5889.0",
         "0.0051"
        ],
        [
         "34",
         "112.71",
         "0.21",
         "222905.0",
         "51.0",
         "6.7",
         "0.097",
         "-1.16",
         "52762.0",
         "0.28"
        ],
        [
         "35",
         "122.45",
         "1.76",
         "156877.0",
         "27.0",
         "4.76",
         "0.82",
         "0.94",
         "45934.0",
         "2.87"
        ],
        [
         "36",
         "115.22",
         "2.41",
         "169216.0",
         "53.0",
         "8.01",
         "1.75",
         "-0.27",
         "53528.0",
         "4.26"
        ],
        [
         "37",
         "113.12",
         "0.2",
         "108031.0",
         "50.0",
         "5.45",
         "0.15",
         "2.33",
         "23772.0",
         "0.23"
        ],
        [
         "38",
         "110.54",
         "0.054",
         "19102.0",
         "75.0",
         "1.13",
         "0.052",
         "3.53",
         "5763.0",
         "0.098"
        ],
        [
         "39",
         "113.12",
         "0.0052",
         "39254.0",
         "7.0",
         "4.63",
         "0.0099",
         "33.8",
         "20765.0",
         "0.016"
        ],
        [
         "40",
         "112.62",
         "0.0083",
         "4452.0",
         "19.0",
         "0.3",
         "0.0089",
         "-1.86",
         "1706.0",
         "0.019"
        ],
        [
         "41",
         "111.29",
         "0.029",
         "17876.0",
         "62.0",
         "1.01",
         "0.028",
         "3.58",
         "3232.0",
         "0.032"
        ],
        [
         "42",
         "113.21",
         "0.18",
         "106508.0",
         "26.0",
         "4.88",
         "0.12",
         "-0.91",
         "21926.0",
         "0.2"
        ],
        [
         "43",
         "109.85",
         "0.038",
         "644627.0",
         "100.0",
         "9.36",
         "0.0092",
         "5.04",
         "80827.0",
         "0.03"
        ],
        [
         "44",
         "114.16",
         "5.23",
         "22415.0",
         "20.0",
         "1.89",
         "6.99",
         "8.15",
         "2481.0",
         "3.36"
        ],
        [
         "45",
         "113.38",
         "0.11",
         "132760.0",
         "45.0",
         "7.39",
         "0.098",
         "-5.53",
         "106106.0",
         "0.52"
        ],
        [
         "46",
         "113.9",
         "0.18",
         "126147.0",
         "11.0",
         "6.79",
         "0.16",
         "2.42",
         "55488.0",
         "0.48"
        ],
        [
         "47",
         "117.38",
         "1.16",
         "112131.0",
         "45.0",
         "5.42",
         "0.84",
         "0.7",
         "38672.0",
         "2.17"
        ],
        [
         "48",
         "117.52",
         "0.022",
         "45505.0",
         "13.0",
         "2.14",
         "0.016",
         "2.2",
         "6840.0",
         "0.018"
        ],
        [
         "49",
         "119.29",
         "3.33",
         "152701.0",
         "22.0",
         "8.66",
         "2.81",
         "1.68",
         "33806.0",
         "3.96"
        ],
        [
         "51",
         "113.45",
         "0.032",
         "96529.0",
         "78.0",
         "3.56",
         "0.017",
         "1.71",
         "22444.0",
         "0.04"
        ],
        [
         "53",
         "111.87",
         "0.026",
         "53313.0",
         "84.0",
         "4.71",
         "0.034",
         "0.34",
         "27956.0",
         "0.075"
        ],
        [
         "54",
         "110.87",
         "0.031",
         "307539.0",
         "89.0",
         "11.61",
         "0.02",
         "-1.1",
         "128936.0",
         "0.081"
        ]
       ],
       "shape": {
        "columns": 9,
        "rows": 88
       }
      },
      "text/html": [
       "<div>\n",
       "<style scoped>\n",
       "    .dataframe tbody tr th:only-of-type {\n",
       "        vertical-align: middle;\n",
       "    }\n",
       "\n",
       "    .dataframe tbody tr th {\n",
       "        vertical-align: top;\n",
       "    }\n",
       "\n",
       "    .dataframe thead th {\n",
       "        text-align: right;\n",
       "    }\n",
       "</style>\n",
       "<table border=\"1\" class=\"dataframe\">\n",
       "  <thead>\n",
       "    <tr style=\"text-align: right;\">\n",
       "      <th></th>\n",
       "      <th>Starost</th>\n",
       "      <th>Odstotek porabe energije (svetovno)</th>\n",
       "      <th>Porabljena energija na prebivalca (letno)</th>\n",
       "      <th>Odstotek pridobljene obnovljive energije</th>\n",
       "      <th>CO2 emisije na prebivalca (v tonah)</th>\n",
       "      <th>Delež svetovnega CO2 (v odstotkih)</th>\n",
       "      <th>GDP rast (v odstotkih)</th>\n",
       "      <th>GDP na prebivalca (v dolarjih)</th>\n",
       "      <th>Delež svetovnega GDP (v odstotkih)</th>\n",
       "    </tr>\n",
       "  </thead>\n",
       "  <tbody>\n",
       "    <tr>\n",
       "      <th>0</th>\n",
       "      <td>111.15</td>\n",
       "      <td>0.0190</td>\n",
       "      <td>38590.0</td>\n",
       "      <td>100.0</td>\n",
       "      <td>1.59</td>\n",
       "      <td>0.01200</td>\n",
       "      <td>3.94</td>\n",
       "      <td>8375.0</td>\n",
       "      <td>0.0220</td>\n",
       "    </tr>\n",
       "    <tr>\n",
       "      <th>1</th>\n",
       "      <td>114.47</td>\n",
       "      <td>0.4100</td>\n",
       "      <td>57531.0</td>\n",
       "      <td>0.9</td>\n",
       "      <td>3.89</td>\n",
       "      <td>0.46000</td>\n",
       "      <td>4.10</td>\n",
       "      <td>5364.0</td>\n",
       "      <td>0.2300</td>\n",
       "    </tr>\n",
       "    <tr>\n",
       "      <th>2</th>\n",
       "      <td>112.18</td>\n",
       "      <td>0.0620</td>\n",
       "      <td>12000.0</td>\n",
       "      <td>76.0</td>\n",
       "      <td>0.57</td>\n",
       "      <td>0.05200</td>\n",
       "      <td>1.00</td>\n",
       "      <td>2308.0</td>\n",
       "      <td>0.0800</td>\n",
       "    </tr>\n",
       "    <tr>\n",
       "      <th>3</th>\n",
       "      <td>110.63</td>\n",
       "      <td>0.0018</td>\n",
       "      <td>117227.0</td>\n",
       "      <td>6.0</td>\n",
       "      <td>2.99</td>\n",
       "      <td>0.00072</td>\n",
       "      <td>3.86</td>\n",
       "      <td>21787.0</td>\n",
       "      <td>0.0019</td>\n",
       "    </tr>\n",
       "    <tr>\n",
       "      <th>4</th>\n",
       "      <td>115.22</td>\n",
       "      <td>0.6600</td>\n",
       "      <td>87325.0</td>\n",
       "      <td>34.0</td>\n",
       "      <td>4.05</td>\n",
       "      <td>0.48000</td>\n",
       "      <td>-1.61</td>\n",
       "      <td>14187.0</td>\n",
       "      <td>0.6100</td>\n",
       "    </tr>\n",
       "    <tr>\n",
       "      <th>...</th>\n",
       "      <td>...</td>\n",
       "      <td>...</td>\n",
       "      <td>...</td>\n",
       "      <td>...</td>\n",
       "      <td>...</td>\n",
       "      <td>...</td>\n",
       "      <td>...</td>\n",
       "      <td>...</td>\n",
       "      <td>...</td>\n",
       "    </tr>\n",
       "    <tr>\n",
       "      <th>95</th>\n",
       "      <td>114.50</td>\n",
       "      <td>1.1000</td>\n",
       "      <td>77422.0</td>\n",
       "      <td>42.0</td>\n",
       "      <td>5.53</td>\n",
       "      <td>1.25000</td>\n",
       "      <td>5.11</td>\n",
       "      <td>12814.0</td>\n",
       "      <td>1.0500</td>\n",
       "    </tr>\n",
       "    <tr>\n",
       "      <th>96</th>\n",
       "      <td>116.19</td>\n",
       "      <td>0.6200</td>\n",
       "      <td>79941.0</td>\n",
       "      <td>17.0</td>\n",
       "      <td>3.23</td>\n",
       "      <td>0.34000</td>\n",
       "      <td>5.32</td>\n",
       "      <td>4737.0</td>\n",
       "      <td>0.1700</td>\n",
       "    </tr>\n",
       "    <tr>\n",
       "      <th>97</th>\n",
       "      <td>116.02</td>\n",
       "      <td>1.4100</td>\n",
       "      <td>123441.0</td>\n",
       "      <td>47.0</td>\n",
       "      <td>5.00</td>\n",
       "      <td>0.88000</td>\n",
       "      <td>0.34</td>\n",
       "      <td>49224.0</td>\n",
       "      <td>3.1800</td>\n",
       "    </tr>\n",
       "    <tr>\n",
       "      <th>98</th>\n",
       "      <td>119.27</td>\n",
       "      <td>16.7700</td>\n",
       "      <td>293979.0</td>\n",
       "      <td>23.0</td>\n",
       "      <td>14.21</td>\n",
       "      <td>12.60000</td>\n",
       "      <td>2.89</td>\n",
       "      <td>80706.0</td>\n",
       "      <td>26.1100</td>\n",
       "    </tr>\n",
       "    <tr>\n",
       "      <th>99</th>\n",
       "      <td>112.21</td>\n",
       "      <td>0.0380</td>\n",
       "      <td>64751.0</td>\n",
       "      <td>92.0</td>\n",
       "      <td>2.52</td>\n",
       "      <td>0.02200</td>\n",
       "      <td>0.37</td>\n",
       "      <td>22798.0</td>\n",
       "      <td>0.0730</td>\n",
       "    </tr>\n",
       "  </tbody>\n",
       "</table>\n",
       "<p>88 rows × 9 columns</p>\n",
       "</div>"
      ],
      "text/plain": [
       "    Starost  Odstotek porabe energije (svetovno)  \\\n",
       "0    111.15                               0.0190   \n",
       "1    114.47                               0.4100   \n",
       "2    112.18                               0.0620   \n",
       "3    110.63                               0.0018   \n",
       "4    115.22                               0.6600   \n",
       "..      ...                                  ...   \n",
       "95   114.50                               1.1000   \n",
       "96   116.19                               0.6200   \n",
       "97   116.02                               1.4100   \n",
       "98   119.27                              16.7700   \n",
       "99   112.21                               0.0380   \n",
       "\n",
       "    Porabljena energija na prebivalca (letno)  \\\n",
       "0                                     38590.0   \n",
       "1                                     57531.0   \n",
       "2                                     12000.0   \n",
       "3                                    117227.0   \n",
       "4                                     87325.0   \n",
       "..                                        ...   \n",
       "95                                    77422.0   \n",
       "96                                    79941.0   \n",
       "97                                   123441.0   \n",
       "98                                   293979.0   \n",
       "99                                    64751.0   \n",
       "\n",
       "    Odstotek pridobljene obnovljive energije  \\\n",
       "0                                      100.0   \n",
       "1                                        0.9   \n",
       "2                                       76.0   \n",
       "3                                        6.0   \n",
       "4                                       34.0   \n",
       "..                                       ...   \n",
       "95                                      42.0   \n",
       "96                                      17.0   \n",
       "97                                      47.0   \n",
       "98                                      23.0   \n",
       "99                                      92.0   \n",
       "\n",
       "    CO2 emisije na prebivalca (v tonah)  Delež svetovnega CO2 (v odstotkih)  \\\n",
       "0                                  1.59                             0.01200   \n",
       "1                                  3.89                             0.46000   \n",
       "2                                  0.57                             0.05200   \n",
       "3                                  2.99                             0.00072   \n",
       "4                                  4.05                             0.48000   \n",
       "..                                  ...                                 ...   \n",
       "95                                 5.53                             1.25000   \n",
       "96                                 3.23                             0.34000   \n",
       "97                                 5.00                             0.88000   \n",
       "98                                14.21                            12.60000   \n",
       "99                                 2.52                             0.02200   \n",
       "\n",
       "    GDP rast (v odstotkih)  GDP na prebivalca (v dolarjih)  \\\n",
       "0                     3.94                          8375.0   \n",
       "1                     4.10                          5364.0   \n",
       "2                     1.00                          2308.0   \n",
       "3                     3.86                         21787.0   \n",
       "4                    -1.61                         14187.0   \n",
       "..                     ...                             ...   \n",
       "95                    5.11                         12814.0   \n",
       "96                    5.32                          4737.0   \n",
       "97                    0.34                         49224.0   \n",
       "98                    2.89                         80706.0   \n",
       "99                    0.37                         22798.0   \n",
       "\n",
       "    Delež svetovnega GDP (v odstotkih)  \n",
       "0                               0.0220  \n",
       "1                               0.2300  \n",
       "2                               0.0800  \n",
       "3                               0.0019  \n",
       "4                               0.6100  \n",
       "..                                 ...  \n",
       "95                              1.0500  \n",
       "96                              0.1700  \n",
       "97                              3.1800  \n",
       "98                             26.1100  \n",
       "99                              0.0730  \n",
       "\n",
       "[88 rows x 9 columns]"
      ]
     },
     "execution_count": 333,
     "metadata": {},
     "output_type": "execute_result"
    }
   ],
   "source": [
    "tabele = [poraba_energije_po_drzavah, obnovljiva_energija_po_drzavah, CO2_emisije_po_drzavah, GDP_po_drzavah]\n",
    "\n",
    "# Začnemo z osnovno tabelo in jih potem postopoma združujemo.\n",
    "zdruzena_tabela = najstarejsi_prebivalci_ekonomija.copy()\n",
    "for tabela in tabele:\n",
    "    zdruzena_tabela = pd.merge(zdruzena_tabela, tabela, on='Država', how='left')\n",
    "\n",
    "# Izberemo želene stolpce.\n",
    "tabela_ekonomije = zdruzena_tabela[['Starost', 'Odstotek porabe energije (svetovno)', \n",
    "                                   'Porabljena energija na prebivalca (letno)', 'Odstotek pridobljene obnovljive energije',\n",
    "                                   'CO2 emisije na prebivalca (v tonah)', 'Delež svetovnega CO2 (v odstotkih)', 'GDP rast (v odstotkih)',\n",
    "                                   'GDP na prebivalca (v dolarjih)', 'Delež svetovnega GDP (v odstotkih)']]\n",
    "\n",
    "# Odstramimo vrstice z manjkajočimi vrednostmi.\n",
    "tabela_ekonomije = tabela_ekonomije.dropna() \n",
    "tabela_ekonomije  "
   ]
  },
  {
   "cell_type": "markdown",
   "id": "25630c53",
   "metadata": {},
   "source": [
    "Sedaj primerjavo vse štiri količine s starostjo najstarejših prebivalcev. Najprej začnemo s porabljeno energijo."
   ]
  },
  {
   "cell_type": "code",
   "execution_count": 334,
   "id": "2da3b7ff",
   "metadata": {},
   "outputs": [
    {
     "data": {
      "text/plain": [
       "<Axes: title={'center': 'Starost najstarejših prebivalcev glede na porabljeno energijo'}, xlabel='Porabljena energija na prebivalca (letno)', ylabel='Starost'>"
      ]
     },
     "execution_count": 334,
     "metadata": {},
     "output_type": "execute_result"
    },
    {
     "data": {
      "image/png": "[encoded data removed]",
      "text/plain": [
       "<Figure size 640x480 with 1 Axes>"
      ]
     },
     "metadata": {},
     "output_type": "display_data"
    }
   ],
   "source": [
    "tabela_ekonomije_energija_urejena = tabela_ekonomije.sort_values(by=['Porabljena energija na prebivalca (letno)'], ascending=True)\n",
    "tabela_ekonomije_energija_urejena[['Porabljena energija na prebivalca (letno)', 'Starost']].groupby('Porabljena energija na prebivalca (letno)').mean().plot(\n",
    "    ylabel = \"Starost\", xlabel = \"Porabljena energija na prebivalca (letno)\",\n",
    "    title = \"Starost najstarejših prebivalcev glede na porabljeno energijo\")\n"
   ]
  },
  {
   "cell_type": "markdown",
   "id": "52387ec6",
   "metadata": {},
   "source": [
    "Iz grafa se opazi, da trend morda še nekoliko narašča do 100.000 porabljene energije, nato pa se začnejo anomalije.\n",
    "Poglejmo si še tortni diagram porabljene energije."
   ]
  },
  {
   "cell_type": "code",
   "execution_count": 335,
   "id": "e7f77457",
   "metadata": {},
   "outputs": [
    {
     "data": {
      "image/png": "[encoded data removed]",
      "text/plain": [
       "<Figure size 1000x800 with 1 Axes>"
      ]
     },
     "metadata": {},
     "output_type": "display_data"
    }
   ],
   "source": [
    "# Določimo mejo za prikazovanje podatkov in združimo podatke majhnih držav.\n",
    "meja_odstotka = 2.0\n",
    "filtrirani_podatki = tabela_ekonomije['Odstotek porabe energije (svetovno)'].copy()\n",
    "majhne_drzave = filtrirani_podatki < meja_odstotka\n",
    "vsota_majhnih_drzav = filtrirani_podatki[majhne_drzave].sum()\n",
    "filtrirani_podatki = filtrirani_podatki[~majhne_drzave]  # Odstranimo mahne države.\n",
    "if vsota_majhnih_drzav > 0:\n",
    "    filtrirani_podatki['Ostalo'] = vsota_majhnih_drzav \n",
    "\n",
    "# Narišite tortni diagram s prikazom procentov samo za večje deleže.\n",
    "plt.figure(figsize=(10, 8))\n",
    "wedges, texts, autotexts = plt.pie(\n",
    "    filtrirani_podatki,\n",
    "    autopct=lambda p: f'{p:.1f}%' if p > meja_odstotka else '',\n",
    "    startangle=90\n",
    ")\n",
    "\n",
    "# Dodamo legendo na desno stran. \n",
    "plt.legend(\n",
    "    wedges,\n",
    "    [f'{label} ({p:.1f}%)' for label, p in zip(filtrirani_podatki.index, filtrirani_podatki)],\n",
    "    title=\"Države\",\n",
    "    loc=\"center left\",\n",
    "    bbox_to_anchor=(1, 0, 0.5, 1)\n",
    ")\n",
    "plt.title('Poraba energije po državah (večje od 3 %)')\n",
    "plt.show()\n"
   ]
  },
  {
   "cell_type": "markdown",
   "id": "0cef35e3",
   "metadata": {},
   "source": [
    "Tortni diagram prikazuje, da porabljena energija ni povsem odvisna od številčnosti prebivalstva. Kot primer lahko navedemo Indijo, ki je trenutno po populaciji največja država na svetu, a hkrati si lasti še le četrto mesto po porabi energije. Če sklepamo, da je starost najstarejših prebivalcev odvisna tudi od populacije, delež porabljene energije na državo ne vpliva skoraj nič na starost najstarejših prebivalcev."
   ]
  },
  {
   "cell_type": "markdown",
   "id": "2d848883",
   "metadata": {},
   "source": [
    "Sedaj si oglejmo podatke o obnovljivi energiji."
   ]
  },
  {
   "cell_type": "code",
   "execution_count": 336,
   "id": "97708b48",
   "metadata": {},
   "outputs": [
    {
     "data": {
      "text/plain": [
       "<Axes: title={'center': 'Starost najstarejših prebivalcev glede na obnovljivo energijo'}, xlabel='Pridobljena obnovljiva enegija v (%)', ylabel='Starost'>"
      ]
     },
     "execution_count": 336,
     "metadata": {},
     "output_type": "execute_result"
    },
    {
     "data": {
      "image/png": "[encoded data removed]",
      "text/plain": [
       "<Figure size 640x480 with 1 Axes>"
      ]
     },
     "metadata": {},
     "output_type": "display_data"
    }
   ],
   "source": [
    "tabela_ekonomije_obnovljiva_energija_urejena = tabela_ekonomije.sort_values(by=['Odstotek pridobljene obnovljive energije'], ascending=True)\n",
    "tabela_ekonomije_obnovljiva_energija_urejena[['Odstotek pridobljene obnovljive energije', 'Starost']].groupby('Odstotek pridobljene obnovljive energije').mean().plot(\n",
    "    ylabel = \"Starost\", xlabel = \"Pridobljena obnovljiva enegija v (%)\",\n",
    "    title = \"Starost najstarejših prebivalcev glede na obnovljivo energijo\")"
   ]
  },
  {
   "cell_type": "markdown",
   "id": "b83d8a36",
   "metadata": {},
   "source": [
    "V tem grafu je vidno, da ni nobene povezave med starostjo najstarejših prebivalcev in pridobljeno obnovljivo energijo. To je seveda posledica tega, da je v manjših državah zagotovo lažje doseči odstotek energije pridobljene iz obnovljivih virov kot v večjih državah. Hkrati pa je seveda starost najstarejših prebivalcev po državah lahko tudi posledica številčnosti prebivalstva - v državi z več prebivalstva je večja možnost, da bo imela več ljudi, ki bodo dosegli zelo veliko starost.\n",
    "Oglejmo si spodnji diagram."
   ]
  },
  {
   "cell_type": "code",
   "execution_count": null,
   "id": "3c272357",
   "metadata": {},
   "outputs": [
    {
     "data": {
      "application/vnd.microsoft.datawrangler.viewer.v0+json": {
       "columns": [
        {
         "name": "index",
         "rawType": "int64",
         "type": "integer"
        },
        {
         "name": "Starost",
         "rawType": "float64",
         "type": "float"
        },
        {
         "name": "Obnovljiva energija (zaokožena)",
         "rawType": "float64",
         "type": "float"
        }
       ],
       "ref": "1a7c2a29-4e26-46f3-a17d-07e26893cec3",
       "rows": [
        [
         "0",
         "111.37",
         "0.0"
        ],
        [
         "1",
         "114.47",
         "0.0"
        ],
        [
         "2",
         "110.95",
         "0.0"
        ],
        [
         "3",
         "111.9",
         "0.0"
        ],
        [
         "4",
         "112.74",
         "0.0"
        ],
        [
         "5",
         "111.16",
         "0.0"
        ],
        [
         "6",
         "113.42",
         "0.0"
        ],
        [
         "7",
         "110.63",
         "10.0"
        ],
        [
         "8",
         "110.14",
         "10.0"
        ],
        [
         "9",
         "113.12",
         "10.0"
        ],
        [
         "10",
         "113.25",
         "10.0"
        ],
        [
         "11",
         "113.9",
         "10.0"
        ],
        [
         "12",
         "114.79",
         "10.0"
        ],
        [
         "13",
         "111.68",
         "10.0"
        ],
        [
         "14",
         "117.52",
         "10.0"
        ],
        [
         "15",
         "112.35",
         "10.0"
        ],
        [
         "16",
         "112.29",
         "10.0"
        ],
        [
         "17",
         "112.8",
         "10.0"
        ],
        [
         "18",
         "114.48",
         "20.0"
        ],
        [
         "19",
         "116.19",
         "20.0"
        ],
        [
         "20",
         "111.55",
         "20.0"
        ],
        [
         "21",
         "114.73",
         "20.0"
        ],
        [
         "22",
         "112.62",
         "20.0"
        ],
        [
         "23",
         "111.17",
         "20.0"
        ],
        [
         "24",
         "114.16",
         "20.0"
        ],
        [
         "25",
         "110.76",
         "20.0"
        ],
        [
         "26",
         "114.42",
         "20.0"
        ],
        [
         "27",
         "111.77",
         "20.0"
        ],
        [
         "28",
         "119.29",
         "20.0"
        ],
        [
         "29",
         "110.39",
         "20.0"
        ],
        [
         "30",
         "119.27",
         "20.0"
        ],
        [
         "31",
         "110.49",
         "20.0"
        ],
        [
         "32",
         "110.69",
         "20.0"
        ],
        [
         "33",
         "113.21",
         "30.0"
        ],
        [
         "34",
         "116.19",
         "30.0"
        ],
        [
         "35",
         "122.45",
         "30.0"
        ],
        [
         "36",
         "114.5",
         "30.0"
        ],
        [
         "37",
         "113.83",
         "30.0"
        ],
        [
         "38",
         "112.51",
         "30.0"
        ],
        [
         "39",
         "110.9",
         "30.0"
        ],
        [
         "40",
         "115.22",
         "30.0"
        ],
        [
         "41",
         "110.88",
         "40.0"
        ],
        [
         "42",
         "114.41",
         "40.0"
        ],
        [
         "43",
         "110.29",
         "40.0"
        ],
        [
         "44",
         "111.73",
         "40.0"
        ],
        [
         "45",
         "114.5",
         "40.0"
        ],
        [
         "46",
         "113.38",
         "40.0"
        ],
        [
         "47",
         "117.38",
         "40.0"
        ],
        [
         "48",
         "110.37",
         "40.0"
        ],
        [
         "49",
         "116.02",
         "50.0"
        ]
       ],
       "shape": {
        "columns": 2,
        "rows": 88
       }
      },
      "text/html": [
       "<div>\n",
       "<style scoped>\n",
       "    .dataframe tbody tr th:only-of-type {\n",
       "        vertical-align: middle;\n",
       "    }\n",
       "\n",
       "    .dataframe tbody tr th {\n",
       "        vertical-align: top;\n",
       "    }\n",
       "\n",
       "    .dataframe thead th {\n",
       "        text-align: right;\n",
       "    }\n",
       "</style>\n",
       "<table border=\"1\" class=\"dataframe\">\n",
       "  <thead>\n",
       "    <tr style=\"text-align: right;\">\n",
       "      <th></th>\n",
       "      <th>Starost</th>\n",
       "      <th>Obnovljiva energija (zaokožena)</th>\n",
       "    </tr>\n",
       "  </thead>\n",
       "  <tbody>\n",
       "    <tr>\n",
       "      <th>0</th>\n",
       "      <td>111.37</td>\n",
       "      <td>0.0</td>\n",
       "    </tr>\n",
       "    <tr>\n",
       "      <th>1</th>\n",
       "      <td>114.47</td>\n",
       "      <td>0.0</td>\n",
       "    </tr>\n",
       "    <tr>\n",
       "      <th>2</th>\n",
       "      <td>110.95</td>\n",
       "      <td>0.0</td>\n",
       "    </tr>\n",
       "    <tr>\n",
       "      <th>3</th>\n",
       "      <td>111.90</td>\n",
       "      <td>0.0</td>\n",
       "    </tr>\n",
       "    <tr>\n",
       "      <th>4</th>\n",
       "      <td>112.74</td>\n",
       "      <td>0.0</td>\n",
       "    </tr>\n",
       "    <tr>\n",
       "      <th>...</th>\n",
       "      <td>...</td>\n",
       "      <td>...</td>\n",
       "    </tr>\n",
       "    <tr>\n",
       "      <th>83</th>\n",
       "      <td>112.17</td>\n",
       "      <td>100.0</td>\n",
       "    </tr>\n",
       "    <tr>\n",
       "      <th>84</th>\n",
       "      <td>109.85</td>\n",
       "      <td>100.0</td>\n",
       "    </tr>\n",
       "    <tr>\n",
       "      <th>85</th>\n",
       "      <td>114.28</td>\n",
       "      <td>100.0</td>\n",
       "    </tr>\n",
       "    <tr>\n",
       "      <th>86</th>\n",
       "      <td>111.15</td>\n",
       "      <td>100.0</td>\n",
       "    </tr>\n",
       "    <tr>\n",
       "      <th>87</th>\n",
       "      <td>115.22</td>\n",
       "      <td>100.0</td>\n",
       "    </tr>\n",
       "  </tbody>\n",
       "</table>\n",
       "<p>88 rows × 2 columns</p>\n",
       "</div>"
      ],
      "text/plain": [
       "    Starost  Obnovljiva energija (zaokožena)\n",
       "0    111.37                              0.0\n",
       "1    114.47                              0.0\n",
       "2    110.95                              0.0\n",
       "3    111.90                              0.0\n",
       "4    112.74                              0.0\n",
       "..      ...                              ...\n",
       "83   112.17                            100.0\n",
       "84   109.85                            100.0\n",
       "85   114.28                            100.0\n",
       "86   111.15                            100.0\n",
       "87   115.22                            100.0\n",
       "\n",
       "[88 rows x 2 columns]"
      ]
     },
     "execution_count": 337,
     "metadata": {},
     "output_type": "execute_result"
    }
   ],
   "source": [
    "# Ustvarimo nov stolpec z zaokroženimi vrednostmi obnovljive energije na desetice. Tako bo lažje \n",
    "# predstaviti podatke v stolpičnem diagramu.\n",
    "tabela_ekonomije_obnovljiva_energija_urejena = tabela_ekonomije_obnovljiva_energija_urejena.reset_index(drop=True)\n",
    "tabela_ekonomije_obnovljiva_energija_urejena['Obnovljiva energija (zaokožena)'] = tabela_ekonomije_obnovljiva_energija_urejena['Odstotek pridobljene obnovljive energije'].round(-1)\n",
    "tabela_ekonomije_obnovljiva_energija_urejena = tabela_ekonomije_obnovljiva_energija_urejena[['Starost', 'Obnovljiva energija (zaokožena)']]\n",
    "tabela_ekonomije_obnovljiva_energija_urejena  "
   ]
  },
  {
   "cell_type": "code",
   "execution_count": 338,
   "id": "742af19c",
   "metadata": {},
   "outputs": [
    {
     "data": {
      "text/plain": [
       "<Axes: title={'center': 'Število držav glede na pridobljeno obnovljivo energijo'}, xlabel='Pridobljena obnovljiva energija (zaokrožena na 10%)', ylabel='Število držav'>"
      ]
     },
     "execution_count": 338,
     "metadata": {},
     "output_type": "execute_result"
    },
    {
     "data": {
      "image/png": "[encoded data removed]",
      "text/plain": [
       "<Figure size 640x480 with 1 Axes>"
      ]
     },
     "metadata": {},
     "output_type": "display_data"
    }
   ],
   "source": [
    "stevilo_obnovljiva_energija_zaokrozeno = tabela_ekonomije_obnovljiva_energija_urejena['Obnovljiva energija (zaokožena)'].value_counts().sort_index()\n",
    "stevilo_obnovljiva_energija_zaokrozeno.plot(\n",
    "    kind='bar',\n",
    "    xlabel = \"Pridobljena obnovljiva energija (zaokrožena na 10%)\",\n",
    "    ylabel = \"Število držav\",\n",
    "    title = \"Število držav glede na pridobljeno obnovljivo energijo\")"
   ]
  },
  {
   "cell_type": "markdown",
   "id": "9df367fd",
   "metadata": {},
   "source": [
    "Stolpični diagram prikazuje, da ima večina držav manj kot 50% pridobljene obnovljive energije. To nakazuje, da ta spremenljivka ni še povsem primerna za analiziranje, saj so določene države še v procesu razvijanja.\n",
    "Poglejmo si še grafa CO2 emisij in BDP-ja.  "
   ]
  },
  {
   "cell_type": "code",
   "execution_count": 339,
   "id": "ba6ea90f",
   "metadata": {},
   "outputs": [
    {
     "data": {
      "text/plain": [
       "<Axes: title={'center': 'Starost najstarejših prebivalcev glede na CO2 emisije'}, xlabel='CO2 emisije na prebivalca (v tonah)', ylabel='Starost'>"
      ]
     },
     "execution_count": 339,
     "metadata": {},
     "output_type": "execute_result"
    },
    {
     "data": {
      "image/png": "[encoded data removed]",
      "text/plain": [
       "<Figure size 640x480 with 1 Axes>"
      ]
     },
     "metadata": {},
     "output_type": "display_data"
    }
   ],
   "source": [
    "tabela_ekonomije_CO2_urejena = tabela_ekonomije.sort_values(by=['CO2 emisije na prebivalca (v tonah)'], ascending=True)\n",
    "tabela_ekonomije_CO2_urejena[['CO2 emisije na prebivalca (v tonah)', 'Starost']].groupby('CO2 emisije na prebivalca (v tonah)').mean().plot(\n",
    "    ylabel = \"Starost\", xlabel = \"CO2 emisije na prebivalca (v tonah)\",\n",
    "    title = \"Starost najstarejših prebivalcev glede na CO2 emisije\")"
   ]
  },
  {
   "cell_type": "markdown",
   "id": "7e300aab",
   "metadata": {},
   "source": [
    "CO2 emisije nimajo povezave z starostjo."
   ]
  },
  {
   "cell_type": "code",
   "execution_count": 340,
   "id": "707b4e38",
   "metadata": {},
   "outputs": [
    {
     "data": {
      "text/plain": [
       "<Axes: title={'center': 'Starost najstarejših prebivalcev glede na BDP'}, xlabel='BDP na prebivalca (v dolarjih)', ylabel='Starost'>"
      ]
     },
     "execution_count": 340,
     "metadata": {},
     "output_type": "execute_result"
    },
    {
     "data": {
      "image/png": "[encoded data removed]",
      "text/plain": [
       "<Figure size 640x480 with 1 Axes>"
      ]
     },
     "metadata": {},
     "output_type": "display_data"
    }
   ],
   "source": [
    "tabela_ekonomije_GDP_urejena = tabela_ekonomije.sort_values(by=['GDP na prebivalca (v dolarjih)'], ascending=True)\n",
    "tabela_ekonomije_GDP_urejena[['GDP na prebivalca (v dolarjih)', 'Starost']].groupby('GDP na prebivalca (v dolarjih)').mean().plot(\n",
    "    ylabel = \"Starost\", xlabel = \"BDP na prebivalca (v dolarjih)\",\n",
    "    title = \"Starost najstarejših prebivalcev glede na BDP\")"
   ]
  },
  {
   "cell_type": "code",
   "execution_count": 341,
   "id": "f57544ee",
   "metadata": {},
   "outputs": [
    {
     "data": {
      "text/plain": [
       "<Axes: title={'center': 'Starost najstarejših prebivalcev glede na BDP rast'}, xlabel='BDP rast (v odstotkih)', ylabel='Starost'>"
      ]
     },
     "execution_count": 341,
     "metadata": {},
     "output_type": "execute_result"
    },
    {
     "data": {
      "image/png": "[encoded data removed]",
      "text/plain": [
       "<Figure size 640x480 with 1 Axes>"
      ]
     },
     "metadata": {},
     "output_type": "display_data"
    }
   ],
   "source": [
    "tabela_ekonomije_GDP_rast_urejena = tabela_ekonomije.sort_values(by=['GDP rast (v odstotkih)'], ascending=True)\n",
    "tabela_ekonomije_GDP_rast_urejena[['GDP rast (v odstotkih)', 'Starost']].groupby('GDP rast (v odstotkih)').mean().plot(\n",
    "    ylabel = \"Starost\", xlabel = \"BDP rast (v odstotkih)\",\n",
    "    title = \"Starost najstarejših prebivalcev glede na BDP rast\")"
   ]
  },
  {
   "cell_type": "markdown",
   "id": "c46c680f",
   "metadata": {},
   "source": [
    "Iz zadnjih dveh grafov sklepamo, da je vidna povezava s starostjo prebivalstva. V prvem grafu se opazi, da je graf ločen na dva dela - prvi del je do okoli 30.000 dolarjev, drugi pa od 30.000 dolarjev naprej. Prvi del je zagotovo manjši od drugega, klub temu pa je povezavo med BDP-jem in starostjo težko posplošiti. V drugem grafu pa je vidno, da države s pozitivno ekonomsko rastjo dosegajo višje starosti najstarejših prebivalcev."
   ]
  },
  {
   "cell_type": "markdown",
   "id": "b6298cd0",
   "metadata": {},
   "source": [
    "Lahko zaključimo, da imajo gospodarski dejavniki majhen vpliv na starost najstarejših prebivalcev. Iz analize podatkov o BDPju sledi, da se vsekakor vidi povezava med gospodarsko rastjo ter starostjo najstarejših prebivalcev. To bi lahko povezali z dejstvom, da večji razvoj države vpliva na dobrobit starosti prebivalcev. Hkrati smo v tem delu opazili, da industrijski razvoj (analiziran s podatki o CO2 emisijah in porabljeni energiji) in razvoj modernih smernic (podatki o obnovljivi energiji) nimata skoraj nič vpliva na starost najstarejših prebivalcev. \n",
    "Oglejmo si še zadnji del te analize."
   ]
  },
  {
   "cell_type": "markdown",
   "id": "a3b6985e",
   "metadata": {},
   "source": [
    "## Analiza po prebivalcih in naravnih zalogah\n",
    "V tem delu bomo primerjali podatke najstarejših prebivalcev s podatki o populaciji, podatki o količini vode ter podatki o podhranjenosti prebivalstva. Cilj tega odseka je poiskati, če je kakšna povezava z naravnimi viri in starostjo najstarejših prebivalcev. Oglejmo si naslednjo tabelo."
   ]
  },
  {
   "cell_type": "code",
   "execution_count": null,
   "id": "1d6c922e",
   "metadata": {},
   "outputs": [
    {
     "data": {
      "application/vnd.microsoft.datawrangler.viewer.v0+json": {
       "columns": [
        {
         "name": "index",
         "rawType": "int64",
         "type": "integer"
        },
        {
         "name": "Država",
         "rawType": "object",
         "type": "string"
        },
        {
         "name": "Starost",
         "rawType": "float64",
         "type": "float"
        },
        {
         "name": "Populacija",
         "rawType": "float64",
         "type": "float"
        },
        {
         "name": "Porabljena količina vode na prebivalca (dnevno)",
         "rawType": "float64",
         "type": "float"
        },
        {
         "name": "Delež podhranjenega prebivalstva (v odstotkih)",
         "rawType": "float64",
         "type": "float"
        }
       ],
       "ref": "364bb107-2e80-47ab-8bb6-3b6d99aebd2c",
       "rows": [
        [
         "0",
         "Albania",
         "111.15",
         "2811655.0",
         "1177.0",
         "6.9"
        ],
        [
         "1",
         "Algeria",
         "114.47",
         "46164219.0",
         "669.0",
         "3.8"
        ],
        [
         "2",
         "Angola",
         "112.18",
         "36749906.0",
         "100.0",
         "23.6"
        ],
        [
         "3",
         "Antigua and Barbuda",
         "110.63",
         "93316.0",
         "361.0",
         null
        ],
        [
         "4",
         "Argentina",
         "115.22",
         "45538401.0",
         "2480.0",
         "4.7"
        ],
        [
         "5",
         "Armenia",
         "114.5",
         "2943393.0",
         "2676.0",
         "3.4"
        ],
        [
         "6",
         "Australia",
         "114.41",
         "26451124.0",
         "1816.0",
         null
        ],
        [
         "7",
         "Austria",
         "114.08",
         "9130429.0",
         "1144.0",
         null
        ],
        [
         "8",
         "Bahamas",
         "110.95",
         "399440.0",
         null,
         null
        ],
        [
         "9",
         "Barbados",
         "113.25",
         "282336.0",
         "826.0",
         "17.8"
        ],
        [
         "10",
         "Belarus",
         "112.74",
         "9115680.0",
         "419.0",
         null
        ],
        [
         "11",
         "Belgium",
         "112.51",
         "11712893.0",
         "1522.0",
         null
        ],
        [
         "12",
         "Bolivia",
         "110.88",
         "12244159.0",
         "571.0",
         "16.5"
        ],
        [
         "13",
         "Bosnia and Herzegovina",
         "110.29",
         "3185073.0",
         "249.0",
         null
        ],
        [
         "14",
         "Brazil",
         "116.96",
         "211140729.0",
         "856.0",
         null
        ],
        [
         "15",
         "Bulgaria",
         "110.69",
         "6795803.0",
         "2149.0",
         "4.3"
        ],
        [
         "16",
         "Cambodia",
         "110.37",
         "17423880.0",
         "439.0",
         "16.0"
        ],
        [
         "17",
         "Canada",
         "117.63",
         "39299105.0",
         "2722.0",
         null
        ],
        [
         "18",
         "Cape Verde",
         "114.5",
         null,
         null,
         null
        ],
        [
         "19",
         "Chile",
         "114.44",
         "19658835.0",
         "5880.0",
         "2.6"
        ],
        [
         "20",
         "China",
         "113.83",
         "1422584933.0",
         "1174.0",
         "8.6"
        ],
        [
         "21",
         "Colombia",
         "114.96",
         "52321152.0",
         "737.0",
         "4.9"
        ],
        [
         "22",
         "Costa Rica",
         "114.28",
         "5105525.0",
         "1816.0",
         "4.0"
        ],
        [
         "23",
         "Croatia",
         "112.26",
         "3896023.0",
         "409.0",
         null
        ],
        [
         "24",
         "Cuba",
         "114.58",
         null,
         "1688.0",
         null
        ],
        [
         "25",
         "Cyprus",
         "110.76",
         "1344976.0",
         "702.0",
         "3.9"
        ],
        [
         "26",
         "Czech Republic",
         "113.01",
         null,
         null,
         null
        ],
        [
         "27",
         "Denmark",
         "115.69",
         "5948136.0",
         "319.0",
         null
        ],
        [
         "28",
         "Dominica",
         "111.68",
         "66510.0",
         "796.0",
         "73.3"
        ],
        [
         "29",
         "Dominican Republic",
         "114.48",
         "11331265.0",
         "1996.0",
         "9.3"
        ],
        [
         "30",
         "Ecuador",
         "116.95",
         "17980083.0",
         "1962.0",
         "7.6"
        ],
        [
         "31",
         "El Salvador",
         "111.67",
         "6309624.0",
         "966.0",
         "9.6"
        ],
        [
         "32",
         "Estonia",
         "110.16",
         "1367196.0",
         "3585.0",
         "3.8"
        ],
        [
         "33",
         "Fiji",
         "109.98",
         "924145.0",
         "264.0",
         "5.5"
        ],
        [
         "34",
         "Finland",
         "112.71",
         "5601185.0",
         "3414.0",
         null
        ],
        [
         "35",
         "France",
         "122.45",
         "66438822.0",
         "1236.0",
         null
        ],
        [
         "36",
         "Germany",
         "115.22",
         "84548231.0",
         "856.0",
         null
        ],
        [
         "37",
         "Greece",
         "113.12",
         "10242908.0",
         "2389.0",
         null
        ],
        [
         "38",
         "Guatemala",
         "110.54",
         "18124838.0",
         "681.0",
         "15.4"
        ],
        [
         "39",
         "Guyana",
         "113.12",
         "826353.0",
         "5284.0",
         "6.3"
        ],
        [
         "40",
         "Haiti",
         "112.62",
         "11637398.0",
         "410.0",
         "49.3"
        ],
        [
         "41",
         "Honduras",
         "111.29",
         "10644851.0",
         "618.0",
         "12.3"
        ],
        [
         "42",
         "Hungary",
         "113.21",
         "9686463.0",
         "1395.0",
         null
        ],
        [
         "43",
         "Iceland",
         "109.85",
         "387558.0",
         "2304.0",
         null
        ],
        [
         "44",
         "India",
         "114.16",
         "1438069596.0",
         "1677.0",
         "14.1"
        ],
        [
         "45",
         "Ireland",
         "113.38",
         "5196630.0",
         "457.0",
         null
        ],
        [
         "46",
         "Israel",
         "113.9",
         "9256314.0",
         "809.0",
         null
        ],
        [
         "47",
         "Italy",
         "117.38",
         "59499453.0",
         "1546.0",
         null
        ],
        [
         "48",
         "Jamaica",
         "117.52",
         "2839786.0",
         "1320.0",
         "7.1"
        ],
        [
         "49",
         "Japan",
         "119.29",
         "124370947.0",
         "1741.0",
         null
        ]
       ],
       "shape": {
        "columns": 5,
        "rows": 101
       }
      },
      "text/html": [
       "<div>\n",
       "<style scoped>\n",
       "    .dataframe tbody tr th:only-of-type {\n",
       "        vertical-align: middle;\n",
       "    }\n",
       "\n",
       "    .dataframe tbody tr th {\n",
       "        vertical-align: top;\n",
       "    }\n",
       "\n",
       "    .dataframe thead th {\n",
       "        text-align: right;\n",
       "    }\n",
       "</style>\n",
       "<table border=\"1\" class=\"dataframe\">\n",
       "  <thead>\n",
       "    <tr style=\"text-align: right;\">\n",
       "      <th></th>\n",
       "      <th>Država</th>\n",
       "      <th>Starost</th>\n",
       "      <th>Populacija</th>\n",
       "      <th>Porabljena količina vode na prebivalca (dnevno)</th>\n",
       "      <th>Delež podhranjenega prebivalstva (v odstotkih)</th>\n",
       "    </tr>\n",
       "  </thead>\n",
       "  <tbody>\n",
       "    <tr>\n",
       "      <th>0</th>\n",
       "      <td>Albania</td>\n",
       "      <td>111.15</td>\n",
       "      <td>2811655.0</td>\n",
       "      <td>1177.0</td>\n",
       "      <td>6.9</td>\n",
       "    </tr>\n",
       "    <tr>\n",
       "      <th>1</th>\n",
       "      <td>Algeria</td>\n",
       "      <td>114.47</td>\n",
       "      <td>46164219.0</td>\n",
       "      <td>669.0</td>\n",
       "      <td>3.8</td>\n",
       "    </tr>\n",
       "    <tr>\n",
       "      <th>2</th>\n",
       "      <td>Angola</td>\n",
       "      <td>112.18</td>\n",
       "      <td>36749906.0</td>\n",
       "      <td>100.0</td>\n",
       "      <td>23.6</td>\n",
       "    </tr>\n",
       "    <tr>\n",
       "      <th>3</th>\n",
       "      <td>Antigua and Barbuda</td>\n",
       "      <td>110.63</td>\n",
       "      <td>93316.0</td>\n",
       "      <td>361.0</td>\n",
       "      <td>NaN</td>\n",
       "    </tr>\n",
       "    <tr>\n",
       "      <th>4</th>\n",
       "      <td>Argentina</td>\n",
       "      <td>115.22</td>\n",
       "      <td>45538401.0</td>\n",
       "      <td>2480.0</td>\n",
       "      <td>4.7</td>\n",
       "    </tr>\n",
       "    <tr>\n",
       "      <th>...</th>\n",
       "      <td>...</td>\n",
       "      <td>...</td>\n",
       "      <td>...</td>\n",
       "      <td>...</td>\n",
       "      <td>...</td>\n",
       "    </tr>\n",
       "    <tr>\n",
       "      <th>96</th>\n",
       "      <td>Ukraine</td>\n",
       "      <td>116.19</td>\n",
       "      <td>37732836.0</td>\n",
       "      <td>592.0</td>\n",
       "      <td>3.3</td>\n",
       "    </tr>\n",
       "    <tr>\n",
       "      <th>97</th>\n",
       "      <td>United Kingdom</td>\n",
       "      <td>116.02</td>\n",
       "      <td>68682962.0</td>\n",
       "      <td>350.0</td>\n",
       "      <td>NaN</td>\n",
       "    </tr>\n",
       "    <tr>\n",
       "      <th>98</th>\n",
       "      <td>United States</td>\n",
       "      <td>119.27</td>\n",
       "      <td>343477335.0</td>\n",
       "      <td>3732.0</td>\n",
       "      <td>NaN</td>\n",
       "    </tr>\n",
       "    <tr>\n",
       "      <th>99</th>\n",
       "      <td>Uruguay</td>\n",
       "      <td>112.21</td>\n",
       "      <td>3388081.0</td>\n",
       "      <td>3070.0</td>\n",
       "      <td>NaN</td>\n",
       "    </tr>\n",
       "    <tr>\n",
       "      <th>100</th>\n",
       "      <td>Venezuela</td>\n",
       "      <td>114.85</td>\n",
       "      <td>NaN</td>\n",
       "      <td>2242.0</td>\n",
       "      <td>22.8</td>\n",
       "    </tr>\n",
       "  </tbody>\n",
       "</table>\n",
       "<p>101 rows × 5 columns</p>\n",
       "</div>"
      ],
      "text/plain": [
       "                  Država  Starost   Populacija  \\\n",
       "0                Albania   111.15    2811655.0   \n",
       "1                Algeria   114.47   46164219.0   \n",
       "2                 Angola   112.18   36749906.0   \n",
       "3    Antigua and Barbuda   110.63      93316.0   \n",
       "4              Argentina   115.22   45538401.0   \n",
       "..                   ...      ...          ...   \n",
       "96               Ukraine   116.19   37732836.0   \n",
       "97        United Kingdom   116.02   68682962.0   \n",
       "98         United States   119.27  343477335.0   \n",
       "99               Uruguay   112.21    3388081.0   \n",
       "100            Venezuela   114.85          NaN   \n",
       "\n",
       "     Porabljena količina vode na prebivalca (dnevno)  \\\n",
       "0                                             1177.0   \n",
       "1                                              669.0   \n",
       "2                                              100.0   \n",
       "3                                              361.0   \n",
       "4                                             2480.0   \n",
       "..                                               ...   \n",
       "96                                             592.0   \n",
       "97                                             350.0   \n",
       "98                                            3732.0   \n",
       "99                                            3070.0   \n",
       "100                                           2242.0   \n",
       "\n",
       "     Delež podhranjenega prebivalstva (v odstotkih)  \n",
       "0                                               6.9  \n",
       "1                                               3.8  \n",
       "2                                              23.6  \n",
       "3                                               NaN  \n",
       "4                                               4.7  \n",
       "..                                              ...  \n",
       "96                                              3.3  \n",
       "97                                              NaN  \n",
       "98                                              NaN  \n",
       "99                                              NaN  \n",
       "100                                            22.8  \n",
       "\n",
       "[101 rows x 5 columns]"
      ]
     },
     "execution_count": 342,
     "metadata": {},
     "output_type": "execute_result"
    }
   ],
   "source": [
    "# Sestavimo tabelo z vsemi količinami. Podatke o populaciji vzamemo iz tabele o BDPju.\n",
    "GDP_po_drzavah = GDP_po_drzavah.reset_index(drop=True)\n",
    "prebivalstvo = GDP_po_drzavah[['Država','Populacija']]\n",
    "skupna_tabela_2 = pd.merge(najstarejsi_prebivalci_ekonomija, prebivalstvo, on='Država', how='left')\n",
    "skupna_tabela_2 = pd.merge(skupna_tabela_2, kolicina_vode_po_drzavah, on='Država', how='left')\n",
    "skupna_tabela_2 = pd.merge(skupna_tabela_2, podhranjenost_po_drzavah, on='Država', how='left')\n",
    "skupna_tabela_2 = skupna_tabela_2[[\n",
    "    'Država', 'Starost', 'Populacija', 'Porabljena količina vode na prebivalca (dnevno)', \n",
    "    'Delež podhranjenega prebivalstva (v odstotkih)']]\n",
    "skupna_tabela_2"
   ]
  },
  {
   "cell_type": "markdown",
   "id": "6f331d43",
   "metadata": {},
   "source": [
    "Sedaj si oglejmo graf populacije s starostjo najstarejših prebivalcev."
   ]
  },
  {
   "cell_type": "code",
   "execution_count": 343,
   "id": "8e92720e",
   "metadata": {},
   "outputs": [
    {
     "data": {
      "text/plain": [
       "<Axes: title={'center': 'Starost najstarejših prebivalcev glede na populacijo'}, xlabel='Populacija', ylabel='Starost'>"
      ]
     },
     "execution_count": 343,
     "metadata": {},
     "output_type": "execute_result"
    },
    {
     "data": {
      "image/png": "[encoded data removed]",
      "text/plain": [
       "<Figure size 640x480 with 1 Axes>"
      ]
     },
     "metadata": {},
     "output_type": "display_data"
    }
   ],
   "source": [
    "# Tabelo šele zdaj uredimo tako, da vrstice z manjkajočimi vrednostmi odstranimo in uredimo po populaciji.\n",
    "tabela_grafa_populacije = skupna_tabela_2[['Država', 'Starost', 'Populacija']]\n",
    "tabela_grafa_populacije = tabela_grafa_populacije.sort_values(by='Populacija', ascending=True)\n",
    "tabela_grafa_populacije = tabela_grafa_populacije.dropna()\n",
    "tabela_grafa_populacije.plot(\n",
    "    x='Populacija', y='Starost', kind='scatter',\n",
    "    xlabel = \"Populacija\",\n",
    "    ylabel = \"Starost\",\n",
    "    title = \"Starost najstarejših prebivalcev glede na populacijo\"\n",
    ")"
   ]
  },
  {
   "cell_type": "markdown",
   "id": "632adaa6",
   "metadata": {},
   "source": [
    "Vidno je, da so največje starosti najstarejših prebivalcev dosežene na pri vrednostih okoli 100 milijonov prebivalcev. Povezave med velikostjo populacije in starostjo pa torej ni, saj graf ne prikazuje lepega trenda. Oglejmo si še zadnja dva grafa."
   ]
  },
  {
   "cell_type": "code",
   "execution_count": 344,
   "id": "7bf42782",
   "metadata": {},
   "outputs": [
    {
     "data": {
      "text/plain": [
       "<Axes: title={'center': 'Starost najstarejših prebivalcev glede na porabljeno količino vode'}, xlabel='Porabljena količina vode na prebivalca (dnevno)', ylabel='Starost'>"
      ]
     },
     "execution_count": 344,
     "metadata": {},
     "output_type": "execute_result"
    },
    {
     "data": {
      "image/png": "[encoded data removed]",
      "text/plain": [
       "<Figure size 640x480 with 1 Axes>"
      ]
     },
     "metadata": {},
     "output_type": "display_data"
    }
   ],
   "source": [
    "tabela_grafa_kolicine_vode = skupna_tabela_2[['Starost', 'Porabljena količina vode na prebivalca (dnevno)']]\n",
    "tabela_grafa_kolicine_vode = tabela_grafa_kolicine_vode.sort_values(by='Porabljena količina vode na prebivalca (dnevno)', ascending=True)\n",
    "tabela_grafa_kolicine_vode = tabela_grafa_kolicine_vode.dropna()\n",
    "tabela_grafa_kolicine_vode.groupby('Porabljena količina vode na prebivalca (dnevno)').mean().plot(\n",
    "    xlabel = \"Porabljena količina vode na prebivalca (dnevno)\",\n",
    "    ylabel = \"Starost\",             \n",
    "    title = \"Starost najstarejših prebivalcev glede na porabljeno količino vode\"\n",
    ")"
   ]
  },
  {
   "cell_type": "markdown",
   "id": "0aa32752",
   "metadata": {},
   "source": [
    "Iz grafa je opazno, da države z manjšo porabo vode dosegajo manjšo starost najstarejših prebivalcev. Odvisnost je težko posplošiti, saj za večje količine porabljene vode starost ne narašča."
   ]
  },
  {
   "cell_type": "code",
   "execution_count": 345,
   "id": "c93334a3",
   "metadata": {},
   "outputs": [
    {
     "data": {
      "text/plain": [
       "<Axes: title={'center': 'Starost najstarejših prebivalcev glede na podhranjenost'}, xlabel='Delež podhranjenega prebivalstva (v odstotkih)', ylabel='Starost'>"
      ]
     },
     "execution_count": 345,
     "metadata": {},
     "output_type": "execute_result"
    },
    {
     "data": {
      "image/png": "[encoded data removed]",
      "text/plain": [
       "<Figure size 640x480 with 1 Axes>"
      ]
     },
     "metadata": {},
     "output_type": "display_data"
    }
   ],
   "source": [
    "tabela_grafa_podhranjenost = skupna_tabela_2[['Starost', 'Delež podhranjenega prebivalstva (v odstotkih)']]\n",
    "tabela_grafa_podhranjenost = tabela_grafa_podhranjenost.sort_values(by='Delež podhranjenega prebivalstva (v odstotkih)', ascending=True)\n",
    "tabela_grafa_podhranjenost = tabela_grafa_podhranjenost.dropna()\n",
    "tabela_grafa_podhranjenost.groupby('Delež podhranjenega prebivalstva (v odstotkih)').mean().plot(\n",
    "    xlabel = \"Delež podhranjenega prebivalstva (v odstotkih)\",\n",
    "    ylabel = \"Starost\",             \n",
    "    title = \"Starost najstarejših prebivalcev glede na podhranjenost\"\n",
    ")"
   ]
  },
  {
   "cell_type": "markdown",
   "id": "f3327790",
   "metadata": {},
   "source": [
    "Graf nakazuje, da države z manjšim ideksom dosegajo v povprečju večje vrednosti starosti najstarejših prebivalcev. Seveda je treba privzeti, da se v tem grafu obravnavajo primeri držav, ki nadpovpečno presegajo mejo podhranjenosti."
   ]
  },
  {
   "cell_type": "markdown",
   "id": "72ed8238",
   "metadata": {},
   "source": [
    "### Zaključek\n",
    "Iz prvega dela analize sledi, da je pričakovna življenjska doba v splošnem povezana s starostjo najstarejših prebivalcev. Nadaljna analiza podatkov pa razkrije, da industrijski razvoj zagotovo ne vpliva v taki velikosti kot pričakovana življenjska doba. Po drugi strani je opazno, da gospodarski razvoj vpliva na starost, prav tako je mogoče opaziti, da naravna zaloga (v tem primeru merjena s količina vode, ki je glavni vir preživetja) ima vpliv vsaj do neke osnovne meje količine vode, ki jo človek potrebuje za življenje. Analiza podhranjenosti prebivalstva pa prav tako razkriva povezavo s starostjo najstarejših prebivalcev."
   ]
  },
  {
   "cell_type": "markdown",
   "id": "3db10c7b",
   "metadata": {},
   "source": [
    "Kot zadnje bi omenil, da je ta analiza podatkov narejena le na statističnih podatkih in ni primerna za popolno posplošitev."
   ]
  }
 ],
 "metadata": {
  "kernelspec": {
   "display_name": "Python 3",
   "language": "python",
   "name": "python3"
  },
  "language_info": {
   "codemirror_mode": {
    "name": "ipython",
    "version": 3
   },
   "file_extension": ".py",
   "mimetype": "text/x-python",
   "name": "python",
   "nbconvert_exporter": "python",
   "pygments_lexer": "ipython3",
   "version": "3.13.2"
  }
 },
 "nbformat": 4,
 "nbformat_minor": 5
}
